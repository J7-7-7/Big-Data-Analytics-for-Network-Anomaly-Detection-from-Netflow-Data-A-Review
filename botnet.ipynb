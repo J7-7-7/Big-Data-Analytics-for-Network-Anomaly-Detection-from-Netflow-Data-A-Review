{
  "nbformat": 4,
  "nbformat_minor": 0,
  "metadata": {
    "colab": {
      "provenance": []
    },
    "kernelspec": {
      "name": "python3",
      "display_name": "Python 3"
    },
    "language_info": {
      "name": "python"
    }
  },
  "cells": [
    {
      "cell_type": "code",
      "source": [
        "import numpy as np\n",
        "import tensorflow as tf\n",
        "from sklearn import datasets\n",
        "from sklearn.model_selection import train_test_split\n",
        "import pylab as pl\n",
        "from IPython import display\n",
        "import pandas as pd\n",
        "import sys\n",
        "import io\n",
        "import itertools\n",
        "import pickle\n",
        "import shutil\n",
        "import sklearn.metrics\n",
        "import tensorflow as tf\n",
        "from tensorflow import keras\n",
        "import os\n",
        "from tensorflow.python.ops import array_ops\n",
        "%matplotlib inline"
      ],
      "metadata": {
        "id": "-N4LwLLz3d4k"
      },
      "execution_count": null,
      "outputs": []
    },
    {
      "cell_type": "code",
      "source": [
        "import socket\n",
        "import struct"
      ],
      "metadata": {
        "id": "sGLT5I-NPpMt"
      },
      "execution_count": null,
      "outputs": []
    },
    {
      "cell_type": "code",
      "source": [
        "import seaborn as sns\n",
        "import matplotlib.pyplot as plt\n",
        "from sklearn.preprocessing import normalize"
      ],
      "metadata": {
        "id": "RXiF-GSNd1yo"
      },
      "execution_count": null,
      "outputs": []
    },
    {
      "cell_type": "code",
      "source": [
        "from sklearn.preprocessing import OneHotEncoder"
      ],
      "metadata": {
        "id": "Us-c6wjpg42p"
      },
      "execution_count": null,
      "outputs": []
    },
    {
      "cell_type": "code",
      "source": [
        "def getLabeled(i):\n",
        "    if(i.find(\"Botnet\")>0):\n",
        "      return 1\n",
        "    if(i.find(\"Background\")>0):\n",
        "      return 2\n",
        "    return 0\n",
        ""
      ],
      "metadata": {
        "id": "MH1fdynl4X98"
      },
      "execution_count": null,
      "outputs": []
    },
    {
      "cell_type": "code",
      "source": [
        "cd /content/drive/MyDrive"
      ],
      "metadata": {
        "colab": {
          "base_uri": "https://localhost:8080/"
        },
        "id": "SX1pu9Xk8Nek",
        "outputId": "fc5d16d3-7d7b-4b95-8f95-f4185abb63a9"
      },
      "execution_count": null,
      "outputs": [
        {
          "output_type": "stream",
          "name": "stdout",
          "text": [
            "/content/drive/MyDrive\n"
          ]
        }
      ]
    },
    {
      "cell_type": "code",
      "source": [
        "!wget --no-check-certificate https://mcfp.felk.cvut.cz/publicDatasets/CTU-Malware-Capture-Botnet-51/detailed-bidirectional-flow-labels/capture20110818.binetflow"
      ],
      "metadata": {
        "id": "AlcjT_dz8YFz",
        "colab": {
          "base_uri": "https://localhost:8080/"
        },
        "outputId": "5d61a6b2-8ca4-490f-da90-6bf0d05e59a5"
      },
      "execution_count": null,
      "outputs": [
        {
          "output_type": "stream",
          "name": "stdout",
          "text": [
            "--2022-04-29 09:02:57--  https://mcfp.felk.cvut.cz/publicDatasets/CTU-Malware-Capture-Botnet-51/detailed-bidirectional-flow-labels/capture20110818.binetflow\n",
            "Resolving mcfp.felk.cvut.cz (mcfp.felk.cvut.cz)... 147.32.82.194\n",
            "Connecting to mcfp.felk.cvut.cz (mcfp.felk.cvut.cz)|147.32.82.194|:443... connected.\n",
            "HTTP request sent, awaiting response... 200 OK\n",
            "Length: 179074339 (171M)\n",
            "Saving to: ‘capture20110818.binetflow.2’\n",
            "\n",
            "capture20110818.bin 100%[===================>] 170.78M  13.2MB/s    in 14s     \n",
            "\n",
            "2022-04-29 09:03:13 (11.9 MB/s) - ‘capture20110818.binetflow.2’ saved [179074339/179074339]\n",
            "\n"
          ]
        }
      ]
    },
    {
      "cell_type": "code",
      "source": [
        "data=pd.read_csv(\"/content/drive/MyDrive/capture20110818.binetflow\")\n",
        "data"
      ],
      "metadata": {
        "colab": {
          "base_uri": "https://localhost:8080/",
          "height": 423
        },
        "id": "4IqRSjqo-pUz",
        "outputId": "d55207f0-de62-473a-e3d4-6947e7bcd421"
      },
      "execution_count": null,
      "outputs": [
        {
          "output_type": "execute_result",
          "data": {
            "text/plain": [
              "                          StartTime          Dur Proto         SrcAddr  \\\n",
              "0        2011/08/18 09:56:29.146156  2752.656250   udp   71.222.124.71   \n",
              "1        2011/08/18 09:56:42.630892  1849.315552   udp   78.234.54.245   \n",
              "2        2011/08/18 09:56:44.640650  2091.747314   udp  31.147.120.139   \n",
              "3        2011/08/18 10:10:52.782230  1535.769409   udp     118.5.35.64   \n",
              "4        2011/08/18 10:19:13.328372     0.002636   tcp   147.32.86.166   \n",
              "...                             ...          ...   ...             ...   \n",
              "1309786  2011/08/18 15:04:59.738400     0.000000  icmp   147.32.84.192   \n",
              "1309787  2011/08/18 15:04:59.740006     0.000000  icmp   147.32.84.208   \n",
              "1309788  2011/08/18 15:04:59.740113     0.000000  icmp   147.32.84.208   \n",
              "1309789  2011/08/18 15:04:59.741823     0.000000  icmp   147.32.84.208   \n",
              "1309790  2011/08/18 15:04:59.744388     0.000000  icmp   147.32.84.205   \n",
              "\n",
              "          Sport    Dir         DstAddr  Dport     State  sTos  dTos  TotPkts  \\\n",
              "0         60621    <->    147.32.84.59  63550       CON   0.0   0.0        3   \n",
              "1         51413    <->    147.32.84.59  63550       CON   0.0   0.0        3   \n",
              "2         63195    <->    147.32.84.59  63550       CON   0.0   0.0        2   \n",
              "3         39110    <->    147.32.84.59  63550       CON   0.0   0.0        2   \n",
              "4         33426    <?>  212.24.150.110  25443  FRPA_FPA   0.0   0.0        6   \n",
              "...         ...    ...             ...    ...       ...   ...   ...      ...   \n",
              "1309786  0x7360     ->    147.32.96.69    NaN       UNK   0.0   NaN        1   \n",
              "1309787  0xd36f     ->    147.32.96.69    NaN       UNK   0.0   NaN        1   \n",
              "1309788  0x3da3     ->    147.32.96.69    NaN       UNK   0.0   NaN        1   \n",
              "1309789  0x441d     ->    147.32.96.69    NaN       ROB   0.0   NaN        1   \n",
              "1309790  0x864f     ->    147.32.96.69    NaN       UNK   0.0   NaN        1   \n",
              "\n",
              "         TotBytes  SrcBytes                                   Label  \n",
              "0             435       290  flow=Background-Established-cmpgw-CVUT  \n",
              "1             417       272  flow=Background-Established-cmpgw-CVUT  \n",
              "2             290       145  flow=Background-Established-cmpgw-CVUT  \n",
              "3             290       145  flow=Background-Established-cmpgw-CVUT  \n",
              "4             490       321                         flow=Background  \n",
              "...           ...       ...                                     ...  \n",
              "1309786      1066      1066             flow=From-Botnet-V51-3-ICMP  \n",
              "1309787      1066      1066             flow=From-Botnet-V51-9-ICMP  \n",
              "1309788      1066      1066             flow=From-Botnet-V51-9-ICMP  \n",
              "1309789      1066      1066             flow=From-Botnet-V51-9-ICMP  \n",
              "1309790      1066      1066             flow=From-Botnet-V51-6-ICMP  \n",
              "\n",
              "[1309791 rows x 15 columns]"
            ],
            "text/html": [
              "\n",
              "  <div id=\"df-aca47549-a06d-4fdf-afa2-19e1e84deae2\">\n",
              "    <div class=\"colab-df-container\">\n",
              "      <div>\n",
              "<style scoped>\n",
              "    .dataframe tbody tr th:only-of-type {\n",
              "        vertical-align: middle;\n",
              "    }\n",
              "\n",
              "    .dataframe tbody tr th {\n",
              "        vertical-align: top;\n",
              "    }\n",
              "\n",
              "    .dataframe thead th {\n",
              "        text-align: right;\n",
              "    }\n",
              "</style>\n",
              "<table border=\"1\" class=\"dataframe\">\n",
              "  <thead>\n",
              "    <tr style=\"text-align: right;\">\n",
              "      <th></th>\n",
              "      <th>StartTime</th>\n",
              "      <th>Dur</th>\n",
              "      <th>Proto</th>\n",
              "      <th>SrcAddr</th>\n",
              "      <th>Sport</th>\n",
              "      <th>Dir</th>\n",
              "      <th>DstAddr</th>\n",
              "      <th>Dport</th>\n",
              "      <th>State</th>\n",
              "      <th>sTos</th>\n",
              "      <th>dTos</th>\n",
              "      <th>TotPkts</th>\n",
              "      <th>TotBytes</th>\n",
              "      <th>SrcBytes</th>\n",
              "      <th>Label</th>\n",
              "    </tr>\n",
              "  </thead>\n",
              "  <tbody>\n",
              "    <tr>\n",
              "      <th>0</th>\n",
              "      <td>2011/08/18 09:56:29.146156</td>\n",
              "      <td>2752.656250</td>\n",
              "      <td>udp</td>\n",
              "      <td>71.222.124.71</td>\n",
              "      <td>60621</td>\n",
              "      <td>&lt;-&gt;</td>\n",
              "      <td>147.32.84.59</td>\n",
              "      <td>63550</td>\n",
              "      <td>CON</td>\n",
              "      <td>0.0</td>\n",
              "      <td>0.0</td>\n",
              "      <td>3</td>\n",
              "      <td>435</td>\n",
              "      <td>290</td>\n",
              "      <td>flow=Background-Established-cmpgw-CVUT</td>\n",
              "    </tr>\n",
              "    <tr>\n",
              "      <th>1</th>\n",
              "      <td>2011/08/18 09:56:42.630892</td>\n",
              "      <td>1849.315552</td>\n",
              "      <td>udp</td>\n",
              "      <td>78.234.54.245</td>\n",
              "      <td>51413</td>\n",
              "      <td>&lt;-&gt;</td>\n",
              "      <td>147.32.84.59</td>\n",
              "      <td>63550</td>\n",
              "      <td>CON</td>\n",
              "      <td>0.0</td>\n",
              "      <td>0.0</td>\n",
              "      <td>3</td>\n",
              "      <td>417</td>\n",
              "      <td>272</td>\n",
              "      <td>flow=Background-Established-cmpgw-CVUT</td>\n",
              "    </tr>\n",
              "    <tr>\n",
              "      <th>2</th>\n",
              "      <td>2011/08/18 09:56:44.640650</td>\n",
              "      <td>2091.747314</td>\n",
              "      <td>udp</td>\n",
              "      <td>31.147.120.139</td>\n",
              "      <td>63195</td>\n",
              "      <td>&lt;-&gt;</td>\n",
              "      <td>147.32.84.59</td>\n",
              "      <td>63550</td>\n",
              "      <td>CON</td>\n",
              "      <td>0.0</td>\n",
              "      <td>0.0</td>\n",
              "      <td>2</td>\n",
              "      <td>290</td>\n",
              "      <td>145</td>\n",
              "      <td>flow=Background-Established-cmpgw-CVUT</td>\n",
              "    </tr>\n",
              "    <tr>\n",
              "      <th>3</th>\n",
              "      <td>2011/08/18 10:10:52.782230</td>\n",
              "      <td>1535.769409</td>\n",
              "      <td>udp</td>\n",
              "      <td>118.5.35.64</td>\n",
              "      <td>39110</td>\n",
              "      <td>&lt;-&gt;</td>\n",
              "      <td>147.32.84.59</td>\n",
              "      <td>63550</td>\n",
              "      <td>CON</td>\n",
              "      <td>0.0</td>\n",
              "      <td>0.0</td>\n",
              "      <td>2</td>\n",
              "      <td>290</td>\n",
              "      <td>145</td>\n",
              "      <td>flow=Background-Established-cmpgw-CVUT</td>\n",
              "    </tr>\n",
              "    <tr>\n",
              "      <th>4</th>\n",
              "      <td>2011/08/18 10:19:13.328372</td>\n",
              "      <td>0.002636</td>\n",
              "      <td>tcp</td>\n",
              "      <td>147.32.86.166</td>\n",
              "      <td>33426</td>\n",
              "      <td>&lt;?&gt;</td>\n",
              "      <td>212.24.150.110</td>\n",
              "      <td>25443</td>\n",
              "      <td>FRPA_FPA</td>\n",
              "      <td>0.0</td>\n",
              "      <td>0.0</td>\n",
              "      <td>6</td>\n",
              "      <td>490</td>\n",
              "      <td>321</td>\n",
              "      <td>flow=Background</td>\n",
              "    </tr>\n",
              "    <tr>\n",
              "      <th>...</th>\n",
              "      <td>...</td>\n",
              "      <td>...</td>\n",
              "      <td>...</td>\n",
              "      <td>...</td>\n",
              "      <td>...</td>\n",
              "      <td>...</td>\n",
              "      <td>...</td>\n",
              "      <td>...</td>\n",
              "      <td>...</td>\n",
              "      <td>...</td>\n",
              "      <td>...</td>\n",
              "      <td>...</td>\n",
              "      <td>...</td>\n",
              "      <td>...</td>\n",
              "      <td>...</td>\n",
              "    </tr>\n",
              "    <tr>\n",
              "      <th>1309786</th>\n",
              "      <td>2011/08/18 15:04:59.738400</td>\n",
              "      <td>0.000000</td>\n",
              "      <td>icmp</td>\n",
              "      <td>147.32.84.192</td>\n",
              "      <td>0x7360</td>\n",
              "      <td>-&gt;</td>\n",
              "      <td>147.32.96.69</td>\n",
              "      <td>NaN</td>\n",
              "      <td>UNK</td>\n",
              "      <td>0.0</td>\n",
              "      <td>NaN</td>\n",
              "      <td>1</td>\n",
              "      <td>1066</td>\n",
              "      <td>1066</td>\n",
              "      <td>flow=From-Botnet-V51-3-ICMP</td>\n",
              "    </tr>\n",
              "    <tr>\n",
              "      <th>1309787</th>\n",
              "      <td>2011/08/18 15:04:59.740006</td>\n",
              "      <td>0.000000</td>\n",
              "      <td>icmp</td>\n",
              "      <td>147.32.84.208</td>\n",
              "      <td>0xd36f</td>\n",
              "      <td>-&gt;</td>\n",
              "      <td>147.32.96.69</td>\n",
              "      <td>NaN</td>\n",
              "      <td>UNK</td>\n",
              "      <td>0.0</td>\n",
              "      <td>NaN</td>\n",
              "      <td>1</td>\n",
              "      <td>1066</td>\n",
              "      <td>1066</td>\n",
              "      <td>flow=From-Botnet-V51-9-ICMP</td>\n",
              "    </tr>\n",
              "    <tr>\n",
              "      <th>1309788</th>\n",
              "      <td>2011/08/18 15:04:59.740113</td>\n",
              "      <td>0.000000</td>\n",
              "      <td>icmp</td>\n",
              "      <td>147.32.84.208</td>\n",
              "      <td>0x3da3</td>\n",
              "      <td>-&gt;</td>\n",
              "      <td>147.32.96.69</td>\n",
              "      <td>NaN</td>\n",
              "      <td>UNK</td>\n",
              "      <td>0.0</td>\n",
              "      <td>NaN</td>\n",
              "      <td>1</td>\n",
              "      <td>1066</td>\n",
              "      <td>1066</td>\n",
              "      <td>flow=From-Botnet-V51-9-ICMP</td>\n",
              "    </tr>\n",
              "    <tr>\n",
              "      <th>1309789</th>\n",
              "      <td>2011/08/18 15:04:59.741823</td>\n",
              "      <td>0.000000</td>\n",
              "      <td>icmp</td>\n",
              "      <td>147.32.84.208</td>\n",
              "      <td>0x441d</td>\n",
              "      <td>-&gt;</td>\n",
              "      <td>147.32.96.69</td>\n",
              "      <td>NaN</td>\n",
              "      <td>ROB</td>\n",
              "      <td>0.0</td>\n",
              "      <td>NaN</td>\n",
              "      <td>1</td>\n",
              "      <td>1066</td>\n",
              "      <td>1066</td>\n",
              "      <td>flow=From-Botnet-V51-9-ICMP</td>\n",
              "    </tr>\n",
              "    <tr>\n",
              "      <th>1309790</th>\n",
              "      <td>2011/08/18 15:04:59.744388</td>\n",
              "      <td>0.000000</td>\n",
              "      <td>icmp</td>\n",
              "      <td>147.32.84.205</td>\n",
              "      <td>0x864f</td>\n",
              "      <td>-&gt;</td>\n",
              "      <td>147.32.96.69</td>\n",
              "      <td>NaN</td>\n",
              "      <td>UNK</td>\n",
              "      <td>0.0</td>\n",
              "      <td>NaN</td>\n",
              "      <td>1</td>\n",
              "      <td>1066</td>\n",
              "      <td>1066</td>\n",
              "      <td>flow=From-Botnet-V51-6-ICMP</td>\n",
              "    </tr>\n",
              "  </tbody>\n",
              "</table>\n",
              "<p>1309791 rows × 15 columns</p>\n",
              "</div>\n",
              "      <button class=\"colab-df-convert\" onclick=\"convertToInteractive('df-aca47549-a06d-4fdf-afa2-19e1e84deae2')\"\n",
              "              title=\"Convert this dataframe to an interactive table.\"\n",
              "              style=\"display:none;\">\n",
              "        \n",
              "  <svg xmlns=\"http://www.w3.org/2000/svg\" height=\"24px\"viewBox=\"0 0 24 24\"\n",
              "       width=\"24px\">\n",
              "    <path d=\"M0 0h24v24H0V0z\" fill=\"none\"/>\n",
              "    <path d=\"M18.56 5.44l.94 2.06.94-2.06 2.06-.94-2.06-.94-.94-2.06-.94 2.06-2.06.94zm-11 1L8.5 8.5l.94-2.06 2.06-.94-2.06-.94L8.5 2.5l-.94 2.06-2.06.94zm10 10l.94 2.06.94-2.06 2.06-.94-2.06-.94-.94-2.06-.94 2.06-2.06.94z\"/><path d=\"M17.41 7.96l-1.37-1.37c-.4-.4-.92-.59-1.43-.59-.52 0-1.04.2-1.43.59L10.3 9.45l-7.72 7.72c-.78.78-.78 2.05 0 2.83L4 21.41c.39.39.9.59 1.41.59.51 0 1.02-.2 1.41-.59l7.78-7.78 2.81-2.81c.8-.78.8-2.07 0-2.86zM5.41 20L4 18.59l7.72-7.72 1.47 1.35L5.41 20z\"/>\n",
              "  </svg>\n",
              "      </button>\n",
              "      \n",
              "  <style>\n",
              "    .colab-df-container {\n",
              "      display:flex;\n",
              "      flex-wrap:wrap;\n",
              "      gap: 12px;\n",
              "    }\n",
              "\n",
              "    .colab-df-convert {\n",
              "      background-color: #E8F0FE;\n",
              "      border: none;\n",
              "      border-radius: 50%;\n",
              "      cursor: pointer;\n",
              "      display: none;\n",
              "      fill: #1967D2;\n",
              "      height: 32px;\n",
              "      padding: 0 0 0 0;\n",
              "      width: 32px;\n",
              "    }\n",
              "\n",
              "    .colab-df-convert:hover {\n",
              "      background-color: #E2EBFA;\n",
              "      box-shadow: 0px 1px 2px rgba(60, 64, 67, 0.3), 0px 1px 3px 1px rgba(60, 64, 67, 0.15);\n",
              "      fill: #174EA6;\n",
              "    }\n",
              "\n",
              "    [theme=dark] .colab-df-convert {\n",
              "      background-color: #3B4455;\n",
              "      fill: #D2E3FC;\n",
              "    }\n",
              "\n",
              "    [theme=dark] .colab-df-convert:hover {\n",
              "      background-color: #434B5C;\n",
              "      box-shadow: 0px 1px 3px 1px rgba(0, 0, 0, 0.15);\n",
              "      filter: drop-shadow(0px 1px 2px rgba(0, 0, 0, 0.3));\n",
              "      fill: #FFFFFF;\n",
              "    }\n",
              "  </style>\n",
              "\n",
              "      <script>\n",
              "        const buttonEl =\n",
              "          document.querySelector('#df-aca47549-a06d-4fdf-afa2-19e1e84deae2 button.colab-df-convert');\n",
              "        buttonEl.style.display =\n",
              "          google.colab.kernel.accessAllowed ? 'block' : 'none';\n",
              "\n",
              "        async function convertToInteractive(key) {\n",
              "          const element = document.querySelector('#df-aca47549-a06d-4fdf-afa2-19e1e84deae2');\n",
              "          const dataTable =\n",
              "            await google.colab.kernel.invokeFunction('convertToInteractive',\n",
              "                                                     [key], {});\n",
              "          if (!dataTable) return;\n",
              "\n",
              "          const docLinkHtml = 'Like what you see? Visit the ' +\n",
              "            '<a target=\"_blank\" href=https://colab.research.google.com/notebooks/data_table.ipynb>data table notebook</a>'\n",
              "            + ' to learn more about interactive tables.';\n",
              "          element.innerHTML = '';\n",
              "          dataTable['output_type'] = 'display_data';\n",
              "          await google.colab.output.renderOutput(dataTable, element);\n",
              "          const docLink = document.createElement('div');\n",
              "          docLink.innerHTML = docLinkHtml;\n",
              "          element.appendChild(docLink);\n",
              "        }\n",
              "      </script>\n",
              "    </div>\n",
              "  </div>\n",
              "  "
            ]
          },
          "metadata": {},
          "execution_count": 7
        }
      ]
    },
    {
      "cell_type": "code",
      "source": [
        "data['Label']=data['Label'].apply(getLabeled)"
      ],
      "metadata": {
        "id": "9s_vqZvo4yZT"
      },
      "execution_count": null,
      "outputs": []
    },
    {
      "cell_type": "code",
      "source": [
        "data.describe()"
      ],
      "metadata": {
        "colab": {
          "base_uri": "https://localhost:8080/",
          "height": 300
        },
        "id": "f3JJUZ24G7a_",
        "outputId": "08777d9b-455e-4808-9412-cd5c14923a8e"
      },
      "execution_count": null,
      "outputs": [
        {
          "output_type": "execute_result",
          "data": {
            "text/plain": [
              "                Dur          sTos          dTos       TotPkts      TotBytes  \\\n",
              "count  1.309791e+06  1.296939e+06  1.123000e+06  1.309791e+06  1.309791e+06   \n",
              "mean   2.538714e+02  4.277688e-02  4.532502e-04  4.851227e+01  3.695596e+04   \n",
              "std    7.694298e+02  2.826380e+00  3.413830e-02  4.419512e+03  3.821740e+06   \n",
              "min    0.000000e+00  0.000000e+00  0.000000e+00  1.000000e+00  6.000000e+01   \n",
              "25%    2.610000e-04  0.000000e+00  0.000000e+00  2.000000e+00  2.140000e+02   \n",
              "50%    8.780000e-04  0.000000e+00  0.000000e+00  2.000000e+00  3.220000e+02   \n",
              "75%    2.277852e+00  0.000000e+00  0.000000e+00  6.000000e+00  1.066000e+03   \n",
              "max    3.600019e+03  1.920000e+02  3.000000e+00  1.853001e+06  1.933022e+09   \n",
              "\n",
              "           SrcBytes         Label  \n",
              "count  1.309791e+06  1.309791e+06  \n",
              "mean   8.064216e+03  1.894605e+00  \n",
              "std    1.253815e+06  3.442166e-01  \n",
              "min    0.000000e+00  0.000000e+00  \n",
              "25%    7.900000e+01  2.000000e+00  \n",
              "50%    9.000000e+01  2.000000e+00  \n",
              "75%    9.290000e+02  2.000000e+00  \n",
              "max    1.233900e+09  2.000000e+00  "
            ],
            "text/html": [
              "\n",
              "  <div id=\"df-00b5e2c1-d70a-4b60-8825-0b3109ae8911\">\n",
              "    <div class=\"colab-df-container\">\n",
              "      <div>\n",
              "<style scoped>\n",
              "    .dataframe tbody tr th:only-of-type {\n",
              "        vertical-align: middle;\n",
              "    }\n",
              "\n",
              "    .dataframe tbody tr th {\n",
              "        vertical-align: top;\n",
              "    }\n",
              "\n",
              "    .dataframe thead th {\n",
              "        text-align: right;\n",
              "    }\n",
              "</style>\n",
              "<table border=\"1\" class=\"dataframe\">\n",
              "  <thead>\n",
              "    <tr style=\"text-align: right;\">\n",
              "      <th></th>\n",
              "      <th>Dur</th>\n",
              "      <th>sTos</th>\n",
              "      <th>dTos</th>\n",
              "      <th>TotPkts</th>\n",
              "      <th>TotBytes</th>\n",
              "      <th>SrcBytes</th>\n",
              "      <th>Label</th>\n",
              "    </tr>\n",
              "  </thead>\n",
              "  <tbody>\n",
              "    <tr>\n",
              "      <th>count</th>\n",
              "      <td>1.309791e+06</td>\n",
              "      <td>1.296939e+06</td>\n",
              "      <td>1.123000e+06</td>\n",
              "      <td>1.309791e+06</td>\n",
              "      <td>1.309791e+06</td>\n",
              "      <td>1.309791e+06</td>\n",
              "      <td>1.309791e+06</td>\n",
              "    </tr>\n",
              "    <tr>\n",
              "      <th>mean</th>\n",
              "      <td>2.538714e+02</td>\n",
              "      <td>4.277688e-02</td>\n",
              "      <td>4.532502e-04</td>\n",
              "      <td>4.851227e+01</td>\n",
              "      <td>3.695596e+04</td>\n",
              "      <td>8.064216e+03</td>\n",
              "      <td>1.894605e+00</td>\n",
              "    </tr>\n",
              "    <tr>\n",
              "      <th>std</th>\n",
              "      <td>7.694298e+02</td>\n",
              "      <td>2.826380e+00</td>\n",
              "      <td>3.413830e-02</td>\n",
              "      <td>4.419512e+03</td>\n",
              "      <td>3.821740e+06</td>\n",
              "      <td>1.253815e+06</td>\n",
              "      <td>3.442166e-01</td>\n",
              "    </tr>\n",
              "    <tr>\n",
              "      <th>min</th>\n",
              "      <td>0.000000e+00</td>\n",
              "      <td>0.000000e+00</td>\n",
              "      <td>0.000000e+00</td>\n",
              "      <td>1.000000e+00</td>\n",
              "      <td>6.000000e+01</td>\n",
              "      <td>0.000000e+00</td>\n",
              "      <td>0.000000e+00</td>\n",
              "    </tr>\n",
              "    <tr>\n",
              "      <th>25%</th>\n",
              "      <td>2.610000e-04</td>\n",
              "      <td>0.000000e+00</td>\n",
              "      <td>0.000000e+00</td>\n",
              "      <td>2.000000e+00</td>\n",
              "      <td>2.140000e+02</td>\n",
              "      <td>7.900000e+01</td>\n",
              "      <td>2.000000e+00</td>\n",
              "    </tr>\n",
              "    <tr>\n",
              "      <th>50%</th>\n",
              "      <td>8.780000e-04</td>\n",
              "      <td>0.000000e+00</td>\n",
              "      <td>0.000000e+00</td>\n",
              "      <td>2.000000e+00</td>\n",
              "      <td>3.220000e+02</td>\n",
              "      <td>9.000000e+01</td>\n",
              "      <td>2.000000e+00</td>\n",
              "    </tr>\n",
              "    <tr>\n",
              "      <th>75%</th>\n",
              "      <td>2.277852e+00</td>\n",
              "      <td>0.000000e+00</td>\n",
              "      <td>0.000000e+00</td>\n",
              "      <td>6.000000e+00</td>\n",
              "      <td>1.066000e+03</td>\n",
              "      <td>9.290000e+02</td>\n",
              "      <td>2.000000e+00</td>\n",
              "    </tr>\n",
              "    <tr>\n",
              "      <th>max</th>\n",
              "      <td>3.600019e+03</td>\n",
              "      <td>1.920000e+02</td>\n",
              "      <td>3.000000e+00</td>\n",
              "      <td>1.853001e+06</td>\n",
              "      <td>1.933022e+09</td>\n",
              "      <td>1.233900e+09</td>\n",
              "      <td>2.000000e+00</td>\n",
              "    </tr>\n",
              "  </tbody>\n",
              "</table>\n",
              "</div>\n",
              "      <button class=\"colab-df-convert\" onclick=\"convertToInteractive('df-00b5e2c1-d70a-4b60-8825-0b3109ae8911')\"\n",
              "              title=\"Convert this dataframe to an interactive table.\"\n",
              "              style=\"display:none;\">\n",
              "        \n",
              "  <svg xmlns=\"http://www.w3.org/2000/svg\" height=\"24px\"viewBox=\"0 0 24 24\"\n",
              "       width=\"24px\">\n",
              "    <path d=\"M0 0h24v24H0V0z\" fill=\"none\"/>\n",
              "    <path d=\"M18.56 5.44l.94 2.06.94-2.06 2.06-.94-2.06-.94-.94-2.06-.94 2.06-2.06.94zm-11 1L8.5 8.5l.94-2.06 2.06-.94-2.06-.94L8.5 2.5l-.94 2.06-2.06.94zm10 10l.94 2.06.94-2.06 2.06-.94-2.06-.94-.94-2.06-.94 2.06-2.06.94z\"/><path d=\"M17.41 7.96l-1.37-1.37c-.4-.4-.92-.59-1.43-.59-.52 0-1.04.2-1.43.59L10.3 9.45l-7.72 7.72c-.78.78-.78 2.05 0 2.83L4 21.41c.39.39.9.59 1.41.59.51 0 1.02-.2 1.41-.59l7.78-7.78 2.81-2.81c.8-.78.8-2.07 0-2.86zM5.41 20L4 18.59l7.72-7.72 1.47 1.35L5.41 20z\"/>\n",
              "  </svg>\n",
              "      </button>\n",
              "      \n",
              "  <style>\n",
              "    .colab-df-container {\n",
              "      display:flex;\n",
              "      flex-wrap:wrap;\n",
              "      gap: 12px;\n",
              "    }\n",
              "\n",
              "    .colab-df-convert {\n",
              "      background-color: #E8F0FE;\n",
              "      border: none;\n",
              "      border-radius: 50%;\n",
              "      cursor: pointer;\n",
              "      display: none;\n",
              "      fill: #1967D2;\n",
              "      height: 32px;\n",
              "      padding: 0 0 0 0;\n",
              "      width: 32px;\n",
              "    }\n",
              "\n",
              "    .colab-df-convert:hover {\n",
              "      background-color: #E2EBFA;\n",
              "      box-shadow: 0px 1px 2px rgba(60, 64, 67, 0.3), 0px 1px 3px 1px rgba(60, 64, 67, 0.15);\n",
              "      fill: #174EA6;\n",
              "    }\n",
              "\n",
              "    [theme=dark] .colab-df-convert {\n",
              "      background-color: #3B4455;\n",
              "      fill: #D2E3FC;\n",
              "    }\n",
              "\n",
              "    [theme=dark] .colab-df-convert:hover {\n",
              "      background-color: #434B5C;\n",
              "      box-shadow: 0px 1px 3px 1px rgba(0, 0, 0, 0.15);\n",
              "      filter: drop-shadow(0px 1px 2px rgba(0, 0, 0, 0.3));\n",
              "      fill: #FFFFFF;\n",
              "    }\n",
              "  </style>\n",
              "\n",
              "      <script>\n",
              "        const buttonEl =\n",
              "          document.querySelector('#df-00b5e2c1-d70a-4b60-8825-0b3109ae8911 button.colab-df-convert');\n",
              "        buttonEl.style.display =\n",
              "          google.colab.kernel.accessAllowed ? 'block' : 'none';\n",
              "\n",
              "        async function convertToInteractive(key) {\n",
              "          const element = document.querySelector('#df-00b5e2c1-d70a-4b60-8825-0b3109ae8911');\n",
              "          const dataTable =\n",
              "            await google.colab.kernel.invokeFunction('convertToInteractive',\n",
              "                                                     [key], {});\n",
              "          if (!dataTable) return;\n",
              "\n",
              "          const docLinkHtml = 'Like what you see? Visit the ' +\n",
              "            '<a target=\"_blank\" href=https://colab.research.google.com/notebooks/data_table.ipynb>data table notebook</a>'\n",
              "            + ' to learn more about interactive tables.';\n",
              "          element.innerHTML = '';\n",
              "          dataTable['output_type'] = 'display_data';\n",
              "          await google.colab.output.renderOutput(dataTable, element);\n",
              "          const docLink = document.createElement('div');\n",
              "          docLink.innerHTML = docLinkHtml;\n",
              "          element.appendChild(docLink);\n",
              "        }\n",
              "      </script>\n",
              "    </div>\n",
              "  </div>\n",
              "  "
            ]
          },
          "metadata": {},
          "execution_count": 9
        }
      ]
    },
    {
      "cell_type": "code",
      "source": [
        "data.info()"
      ],
      "metadata": {
        "colab": {
          "base_uri": "https://localhost:8080/"
        },
        "id": "voUoUCn1G70k",
        "outputId": "5f9629af-2c4d-45ae-b02f-c43fc0a022a5"
      },
      "execution_count": null,
      "outputs": [
        {
          "output_type": "stream",
          "name": "stdout",
          "text": [
            "<class 'pandas.core.frame.DataFrame'>\n",
            "RangeIndex: 1309791 entries, 0 to 1309790\n",
            "Data columns (total 15 columns):\n",
            " #   Column     Non-Null Count    Dtype  \n",
            "---  ------     --------------    -----  \n",
            " 0   StartTime  1309791 non-null  object \n",
            " 1   Dur        1309791 non-null  float64\n",
            " 2   Proto      1309791 non-null  object \n",
            " 3   SrcAddr    1309791 non-null  object \n",
            " 4   Sport      1302804 non-null  object \n",
            " 5   Dir        1309791 non-null  object \n",
            " 6   DstAddr    1309791 non-null  object \n",
            " 7   Dport      1205576 non-null  object \n",
            " 8   State      1308563 non-null  object \n",
            " 9   sTos       1296939 non-null  float64\n",
            " 10  dTos       1123000 non-null  float64\n",
            " 11  TotPkts    1309791 non-null  int64  \n",
            " 12  TotBytes   1309791 non-null  int64  \n",
            " 13  SrcBytes   1309791 non-null  int64  \n",
            " 14  Label      1309791 non-null  int64  \n",
            "dtypes: float64(3), int64(4), object(8)\n",
            "memory usage: 149.9+ MB\n"
          ]
        }
      ]
    },
    {
      "cell_type": "code",
      "source": [
        "data.isnull().sum()"
      ],
      "metadata": {
        "id": "o-q6WddBG8B3",
        "colab": {
          "base_uri": "https://localhost:8080/"
        },
        "outputId": "af1566db-5432-4034-bb9a-9208d31f7505"
      },
      "execution_count": null,
      "outputs": [
        {
          "output_type": "execute_result",
          "data": {
            "text/plain": [
              "StartTime         0\n",
              "Dur               0\n",
              "Proto             0\n",
              "SrcAddr           0\n",
              "Sport          6987\n",
              "Dir               0\n",
              "DstAddr           0\n",
              "Dport        104215\n",
              "State          1228\n",
              "sTos          12852\n",
              "dTos         186791\n",
              "TotPkts           0\n",
              "TotBytes          0\n",
              "SrcBytes          0\n",
              "Label             0\n",
              "dtype: int64"
            ]
          },
          "metadata": {},
          "execution_count": 11
        }
      ]
    },
    {
      "cell_type": "code",
      "source": [
        "data=data.dropna()"
      ],
      "metadata": {
        "id": "wUKjoTliUE0R"
      },
      "execution_count": null,
      "outputs": []
    },
    {
      "cell_type": "code",
      "source": [
        "data['Label'].unique()"
      ],
      "metadata": {
        "colab": {
          "base_uri": "https://localhost:8080/"
        },
        "id": "DSA6VIl1XOr-",
        "outputId": "07c0590e-2b03-4f24-8606-5442d5a9b21d"
      },
      "execution_count": null,
      "outputs": [
        {
          "output_type": "execute_result",
          "data": {
            "text/plain": [
              "array([2, 0, 1])"
            ]
          },
          "metadata": {},
          "execution_count": 13
        }
      ]
    },
    {
      "cell_type": "code",
      "source": [
        "def convert(Sip):\n",
        "  Sip = socket.inet_aton(Sip)\n",
        "  Sip = struct.unpack(\"!L\", Sip)[0]\n",
        "  return Sip\n"
      ],
      "metadata": {
        "id": "LDxN1LQ8ao9B"
      },
      "execution_count": null,
      "outputs": []
    },
    {
      "cell_type": "code",
      "source": [
        "data['SrcAddr']=data['SrcAddr'].apply(convert)"
      ],
      "metadata": {
        "colab": {
          "base_uri": "https://localhost:8080/"
        },
        "id": "4TRziFTwYJCd",
        "outputId": "b3e6c5d3-1a9e-4cb1-f7d0-ccc634eae267"
      },
      "execution_count": null,
      "outputs": [
        {
          "output_type": "stream",
          "name": "stderr",
          "text": [
            "/usr/local/lib/python3.7/dist-packages/ipykernel_launcher.py:1: SettingWithCopyWarning: \n",
            "A value is trying to be set on a copy of a slice from a DataFrame.\n",
            "Try using .loc[row_indexer,col_indexer] = value instead\n",
            "\n",
            "See the caveats in the documentation: https://pandas.pydata.org/pandas-docs/stable/user_guide/indexing.html#returning-a-view-versus-a-copy\n",
            "  \"\"\"Entry point for launching an IPython kernel.\n"
          ]
        }
      ]
    },
    {
      "cell_type": "code",
      "source": [
        "data['DstAddr']=data['DstAddr'].apply(convert)"
      ],
      "metadata": {
        "colab": {
          "base_uri": "https://localhost:8080/"
        },
        "id": "itHvrF3xaniH",
        "outputId": "19125170-269a-4c1a-f2c0-063fbb041e38"
      },
      "execution_count": null,
      "outputs": [
        {
          "output_type": "stream",
          "name": "stderr",
          "text": [
            "/usr/local/lib/python3.7/dist-packages/ipykernel_launcher.py:1: SettingWithCopyWarning: \n",
            "A value is trying to be set on a copy of a slice from a DataFrame.\n",
            "Try using .loc[row_indexer,col_indexer] = value instead\n",
            "\n",
            "See the caveats in the documentation: https://pandas.pydata.org/pandas-docs/stable/user_guide/indexing.html#returning-a-view-versus-a-copy\n",
            "  \"\"\"Entry point for launching an IPython kernel.\n"
          ]
        }
      ]
    },
    {
      "cell_type": "code",
      "source": [
        "data['Proto'].unique()"
      ],
      "metadata": {
        "colab": {
          "base_uri": "https://localhost:8080/"
        },
        "id": "nZoiIc0KbdsM",
        "outputId": "ab34f464-cfdd-40a8-a925-2ac3537b7b16"
      },
      "execution_count": null,
      "outputs": [
        {
          "output_type": "execute_result",
          "data": {
            "text/plain": [
              "array(['udp', 'tcp', 'rtp', 'rtcp', 'icmp', 'udt'], dtype=object)"
            ]
          },
          "metadata": {},
          "execution_count": 17
        }
      ]
    },
    {
      "cell_type": "code",
      "source": [
        "from sklearn import preprocessing"
      ],
      "metadata": {
        "id": "Zv1Xup8UboMN"
      },
      "execution_count": null,
      "outputs": []
    },
    {
      "cell_type": "code",
      "source": [
        "le = preprocessing.LabelEncoder()\n",
        "le.fit(data['Proto'])\n",
        "data['Proto']=le.transform(data['Proto'])"
      ],
      "metadata": {
        "colab": {
          "base_uri": "https://localhost:8080/"
        },
        "id": "TDSWMw9_cFYB",
        "outputId": "e640885f-ba93-48e2-ce62-8c136da79ba8"
      },
      "execution_count": null,
      "outputs": [
        {
          "output_type": "stream",
          "name": "stderr",
          "text": [
            "/usr/local/lib/python3.7/dist-packages/ipykernel_launcher.py:3: SettingWithCopyWarning: \n",
            "A value is trying to be set on a copy of a slice from a DataFrame.\n",
            "Try using .loc[row_indexer,col_indexer] = value instead\n",
            "\n",
            "See the caveats in the documentation: https://pandas.pydata.org/pandas-docs/stable/user_guide/indexing.html#returning-a-view-versus-a-copy\n",
            "  This is separate from the ipykernel package so we can avoid doing imports until\n"
          ]
        }
      ]
    },
    {
      "cell_type": "code",
      "source": [
        "le = preprocessing.LabelEncoder()\n",
        "le.fit(data['State'])\n",
        "data['State']=le.transform(data['State'])"
      ],
      "metadata": {
        "colab": {
          "base_uri": "https://localhost:8080/"
        },
        "id": "NPmCqsLAcQWt",
        "outputId": "779fcfaa-1e94-45aa-cbdf-89e3173164a7"
      },
      "execution_count": null,
      "outputs": [
        {
          "output_type": "stream",
          "name": "stderr",
          "text": [
            "/usr/local/lib/python3.7/dist-packages/ipykernel_launcher.py:3: SettingWithCopyWarning: \n",
            "A value is trying to be set on a copy of a slice from a DataFrame.\n",
            "Try using .loc[row_indexer,col_indexer] = value instead\n",
            "\n",
            "See the caveats in the documentation: https://pandas.pydata.org/pandas-docs/stable/user_guide/indexing.html#returning-a-view-versus-a-copy\n",
            "  This is separate from the ipykernel package so we can avoid doing imports until\n"
          ]
        }
      ]
    },
    {
      "cell_type": "code",
      "source": [
        "data"
      ],
      "metadata": {
        "colab": {
          "base_uri": "https://localhost:8080/",
          "height": 423
        },
        "id": "xARQBhGRcRwA",
        "outputId": "1b174d66-8293-4ddb-864e-139b35750495"
      },
      "execution_count": null,
      "outputs": [
        {
          "output_type": "execute_result",
          "data": {
            "text/plain": [
              "                          StartTime          Dur  Proto     SrcAddr  Sport  \\\n",
              "0        2011/08/18 09:56:29.146156  2752.656250      4  1205763143  60621   \n",
              "1        2011/08/18 09:56:42.630892  1849.315552      4  1323972341  51413   \n",
              "2        2011/08/18 09:56:44.640650  2091.747314      4   529758347  63195   \n",
              "3        2011/08/18 10:10:52.782230  1535.769409      4  1980048192  39110   \n",
              "4        2011/08/18 10:19:13.328372     0.002636      3  2468370086  33426   \n",
              "...                             ...          ...    ...         ...    ...   \n",
              "1309688  2011/08/18 15:04:59.566808     0.038428      3  3261910038  42969   \n",
              "1309697  2011/08/18 15:04:59.579762     0.000158      3  3682719122  25463   \n",
              "1309715  2011/08/18 15:04:59.626719     0.000688      4  3587991704  64126   \n",
              "1309756  2011/08/18 15:04:59.686325     0.000689      4   991300600  44432   \n",
              "1309764  2011/08/18 15:04:59.703972     0.001252      3  2468370143  52836   \n",
              "\n",
              "           Dir     DstAddr  Dport  State  sTos  dTos  TotPkts  TotBytes  \\\n",
              "0          <->  2468369467  63550     13   0.0   0.0        3       435   \n",
              "1          <->  2468369467  63550     13   0.0   0.0        3       417   \n",
              "2          <->  2468369467  63550     13   0.0   0.0        2       290   \n",
              "3          <->  2468369467  63550     13   0.0   0.0        2       290   \n",
              "4          <?>  3558381166  25443     56   0.0   0.0        6       490   \n",
              "...        ...         ...    ...    ...   ...   ...      ...       ...   \n",
              "1309688     ->  2468369546   8080    203   0.0   0.0        6      1638   \n",
              "1309697     ->  2468370220     80    251   0.0   0.0        2       152   \n",
              "1309715    <->  2468369637  13363     13   0.0   0.0        2       306   \n",
              "1309756    <->  2468369637  13363     13   0.0   0.0        2       144   \n",
              "1309764     ->  1507711244   1935    182   0.0   0.0        3       192   \n",
              "\n",
              "         SrcBytes  Label  \n",
              "0             290      2  \n",
              "1             272      2  \n",
              "2             145      2  \n",
              "3             145      2  \n",
              "4             321      2  \n",
              "...           ...    ...  \n",
              "1309688      1008      2  \n",
              "1309697        78      2  \n",
              "1309715       244      2  \n",
              "1309756        83      2  \n",
              "1309764       126      2  \n",
              "\n",
              "[1110530 rows x 15 columns]"
            ],
            "text/html": [
              "\n",
              "  <div id=\"df-ce6da2dc-c70a-4833-9784-d9e506ff778d\">\n",
              "    <div class=\"colab-df-container\">\n",
              "      <div>\n",
              "<style scoped>\n",
              "    .dataframe tbody tr th:only-of-type {\n",
              "        vertical-align: middle;\n",
              "    }\n",
              "\n",
              "    .dataframe tbody tr th {\n",
              "        vertical-align: top;\n",
              "    }\n",
              "\n",
              "    .dataframe thead th {\n",
              "        text-align: right;\n",
              "    }\n",
              "</style>\n",
              "<table border=\"1\" class=\"dataframe\">\n",
              "  <thead>\n",
              "    <tr style=\"text-align: right;\">\n",
              "      <th></th>\n",
              "      <th>StartTime</th>\n",
              "      <th>Dur</th>\n",
              "      <th>Proto</th>\n",
              "      <th>SrcAddr</th>\n",
              "      <th>Sport</th>\n",
              "      <th>Dir</th>\n",
              "      <th>DstAddr</th>\n",
              "      <th>Dport</th>\n",
              "      <th>State</th>\n",
              "      <th>sTos</th>\n",
              "      <th>dTos</th>\n",
              "      <th>TotPkts</th>\n",
              "      <th>TotBytes</th>\n",
              "      <th>SrcBytes</th>\n",
              "      <th>Label</th>\n",
              "    </tr>\n",
              "  </thead>\n",
              "  <tbody>\n",
              "    <tr>\n",
              "      <th>0</th>\n",
              "      <td>2011/08/18 09:56:29.146156</td>\n",
              "      <td>2752.656250</td>\n",
              "      <td>4</td>\n",
              "      <td>1205763143</td>\n",
              "      <td>60621</td>\n",
              "      <td>&lt;-&gt;</td>\n",
              "      <td>2468369467</td>\n",
              "      <td>63550</td>\n",
              "      <td>13</td>\n",
              "      <td>0.0</td>\n",
              "      <td>0.0</td>\n",
              "      <td>3</td>\n",
              "      <td>435</td>\n",
              "      <td>290</td>\n",
              "      <td>2</td>\n",
              "    </tr>\n",
              "    <tr>\n",
              "      <th>1</th>\n",
              "      <td>2011/08/18 09:56:42.630892</td>\n",
              "      <td>1849.315552</td>\n",
              "      <td>4</td>\n",
              "      <td>1323972341</td>\n",
              "      <td>51413</td>\n",
              "      <td>&lt;-&gt;</td>\n",
              "      <td>2468369467</td>\n",
              "      <td>63550</td>\n",
              "      <td>13</td>\n",
              "      <td>0.0</td>\n",
              "      <td>0.0</td>\n",
              "      <td>3</td>\n",
              "      <td>417</td>\n",
              "      <td>272</td>\n",
              "      <td>2</td>\n",
              "    </tr>\n",
              "    <tr>\n",
              "      <th>2</th>\n",
              "      <td>2011/08/18 09:56:44.640650</td>\n",
              "      <td>2091.747314</td>\n",
              "      <td>4</td>\n",
              "      <td>529758347</td>\n",
              "      <td>63195</td>\n",
              "      <td>&lt;-&gt;</td>\n",
              "      <td>2468369467</td>\n",
              "      <td>63550</td>\n",
              "      <td>13</td>\n",
              "      <td>0.0</td>\n",
              "      <td>0.0</td>\n",
              "      <td>2</td>\n",
              "      <td>290</td>\n",
              "      <td>145</td>\n",
              "      <td>2</td>\n",
              "    </tr>\n",
              "    <tr>\n",
              "      <th>3</th>\n",
              "      <td>2011/08/18 10:10:52.782230</td>\n",
              "      <td>1535.769409</td>\n",
              "      <td>4</td>\n",
              "      <td>1980048192</td>\n",
              "      <td>39110</td>\n",
              "      <td>&lt;-&gt;</td>\n",
              "      <td>2468369467</td>\n",
              "      <td>63550</td>\n",
              "      <td>13</td>\n",
              "      <td>0.0</td>\n",
              "      <td>0.0</td>\n",
              "      <td>2</td>\n",
              "      <td>290</td>\n",
              "      <td>145</td>\n",
              "      <td>2</td>\n",
              "    </tr>\n",
              "    <tr>\n",
              "      <th>4</th>\n",
              "      <td>2011/08/18 10:19:13.328372</td>\n",
              "      <td>0.002636</td>\n",
              "      <td>3</td>\n",
              "      <td>2468370086</td>\n",
              "      <td>33426</td>\n",
              "      <td>&lt;?&gt;</td>\n",
              "      <td>3558381166</td>\n",
              "      <td>25443</td>\n",
              "      <td>56</td>\n",
              "      <td>0.0</td>\n",
              "      <td>0.0</td>\n",
              "      <td>6</td>\n",
              "      <td>490</td>\n",
              "      <td>321</td>\n",
              "      <td>2</td>\n",
              "    </tr>\n",
              "    <tr>\n",
              "      <th>...</th>\n",
              "      <td>...</td>\n",
              "      <td>...</td>\n",
              "      <td>...</td>\n",
              "      <td>...</td>\n",
              "      <td>...</td>\n",
              "      <td>...</td>\n",
              "      <td>...</td>\n",
              "      <td>...</td>\n",
              "      <td>...</td>\n",
              "      <td>...</td>\n",
              "      <td>...</td>\n",
              "      <td>...</td>\n",
              "      <td>...</td>\n",
              "      <td>...</td>\n",
              "      <td>...</td>\n",
              "    </tr>\n",
              "    <tr>\n",
              "      <th>1309688</th>\n",
              "      <td>2011/08/18 15:04:59.566808</td>\n",
              "      <td>0.038428</td>\n",
              "      <td>3</td>\n",
              "      <td>3261910038</td>\n",
              "      <td>42969</td>\n",
              "      <td>-&gt;</td>\n",
              "      <td>2468369546</td>\n",
              "      <td>8080</td>\n",
              "      <td>203</td>\n",
              "      <td>0.0</td>\n",
              "      <td>0.0</td>\n",
              "      <td>6</td>\n",
              "      <td>1638</td>\n",
              "      <td>1008</td>\n",
              "      <td>2</td>\n",
              "    </tr>\n",
              "    <tr>\n",
              "      <th>1309697</th>\n",
              "      <td>2011/08/18 15:04:59.579762</td>\n",
              "      <td>0.000158</td>\n",
              "      <td>3</td>\n",
              "      <td>3682719122</td>\n",
              "      <td>25463</td>\n",
              "      <td>-&gt;</td>\n",
              "      <td>2468370220</td>\n",
              "      <td>80</td>\n",
              "      <td>251</td>\n",
              "      <td>0.0</td>\n",
              "      <td>0.0</td>\n",
              "      <td>2</td>\n",
              "      <td>152</td>\n",
              "      <td>78</td>\n",
              "      <td>2</td>\n",
              "    </tr>\n",
              "    <tr>\n",
              "      <th>1309715</th>\n",
              "      <td>2011/08/18 15:04:59.626719</td>\n",
              "      <td>0.000688</td>\n",
              "      <td>4</td>\n",
              "      <td>3587991704</td>\n",
              "      <td>64126</td>\n",
              "      <td>&lt;-&gt;</td>\n",
              "      <td>2468369637</td>\n",
              "      <td>13363</td>\n",
              "      <td>13</td>\n",
              "      <td>0.0</td>\n",
              "      <td>0.0</td>\n",
              "      <td>2</td>\n",
              "      <td>306</td>\n",
              "      <td>244</td>\n",
              "      <td>2</td>\n",
              "    </tr>\n",
              "    <tr>\n",
              "      <th>1309756</th>\n",
              "      <td>2011/08/18 15:04:59.686325</td>\n",
              "      <td>0.000689</td>\n",
              "      <td>4</td>\n",
              "      <td>991300600</td>\n",
              "      <td>44432</td>\n",
              "      <td>&lt;-&gt;</td>\n",
              "      <td>2468369637</td>\n",
              "      <td>13363</td>\n",
              "      <td>13</td>\n",
              "      <td>0.0</td>\n",
              "      <td>0.0</td>\n",
              "      <td>2</td>\n",
              "      <td>144</td>\n",
              "      <td>83</td>\n",
              "      <td>2</td>\n",
              "    </tr>\n",
              "    <tr>\n",
              "      <th>1309764</th>\n",
              "      <td>2011/08/18 15:04:59.703972</td>\n",
              "      <td>0.001252</td>\n",
              "      <td>3</td>\n",
              "      <td>2468370143</td>\n",
              "      <td>52836</td>\n",
              "      <td>-&gt;</td>\n",
              "      <td>1507711244</td>\n",
              "      <td>1935</td>\n",
              "      <td>182</td>\n",
              "      <td>0.0</td>\n",
              "      <td>0.0</td>\n",
              "      <td>3</td>\n",
              "      <td>192</td>\n",
              "      <td>126</td>\n",
              "      <td>2</td>\n",
              "    </tr>\n",
              "  </tbody>\n",
              "</table>\n",
              "<p>1110530 rows × 15 columns</p>\n",
              "</div>\n",
              "      <button class=\"colab-df-convert\" onclick=\"convertToInteractive('df-ce6da2dc-c70a-4833-9784-d9e506ff778d')\"\n",
              "              title=\"Convert this dataframe to an interactive table.\"\n",
              "              style=\"display:none;\">\n",
              "        \n",
              "  <svg xmlns=\"http://www.w3.org/2000/svg\" height=\"24px\"viewBox=\"0 0 24 24\"\n",
              "       width=\"24px\">\n",
              "    <path d=\"M0 0h24v24H0V0z\" fill=\"none\"/>\n",
              "    <path d=\"M18.56 5.44l.94 2.06.94-2.06 2.06-.94-2.06-.94-.94-2.06-.94 2.06-2.06.94zm-11 1L8.5 8.5l.94-2.06 2.06-.94-2.06-.94L8.5 2.5l-.94 2.06-2.06.94zm10 10l.94 2.06.94-2.06 2.06-.94-2.06-.94-.94-2.06-.94 2.06-2.06.94z\"/><path d=\"M17.41 7.96l-1.37-1.37c-.4-.4-.92-.59-1.43-.59-.52 0-1.04.2-1.43.59L10.3 9.45l-7.72 7.72c-.78.78-.78 2.05 0 2.83L4 21.41c.39.39.9.59 1.41.59.51 0 1.02-.2 1.41-.59l7.78-7.78 2.81-2.81c.8-.78.8-2.07 0-2.86zM5.41 20L4 18.59l7.72-7.72 1.47 1.35L5.41 20z\"/>\n",
              "  </svg>\n",
              "      </button>\n",
              "      \n",
              "  <style>\n",
              "    .colab-df-container {\n",
              "      display:flex;\n",
              "      flex-wrap:wrap;\n",
              "      gap: 12px;\n",
              "    }\n",
              "\n",
              "    .colab-df-convert {\n",
              "      background-color: #E8F0FE;\n",
              "      border: none;\n",
              "      border-radius: 50%;\n",
              "      cursor: pointer;\n",
              "      display: none;\n",
              "      fill: #1967D2;\n",
              "      height: 32px;\n",
              "      padding: 0 0 0 0;\n",
              "      width: 32px;\n",
              "    }\n",
              "\n",
              "    .colab-df-convert:hover {\n",
              "      background-color: #E2EBFA;\n",
              "      box-shadow: 0px 1px 2px rgba(60, 64, 67, 0.3), 0px 1px 3px 1px rgba(60, 64, 67, 0.15);\n",
              "      fill: #174EA6;\n",
              "    }\n",
              "\n",
              "    [theme=dark] .colab-df-convert {\n",
              "      background-color: #3B4455;\n",
              "      fill: #D2E3FC;\n",
              "    }\n",
              "\n",
              "    [theme=dark] .colab-df-convert:hover {\n",
              "      background-color: #434B5C;\n",
              "      box-shadow: 0px 1px 3px 1px rgba(0, 0, 0, 0.15);\n",
              "      filter: drop-shadow(0px 1px 2px rgba(0, 0, 0, 0.3));\n",
              "      fill: #FFFFFF;\n",
              "    }\n",
              "  </style>\n",
              "\n",
              "      <script>\n",
              "        const buttonEl =\n",
              "          document.querySelector('#df-ce6da2dc-c70a-4833-9784-d9e506ff778d button.colab-df-convert');\n",
              "        buttonEl.style.display =\n",
              "          google.colab.kernel.accessAllowed ? 'block' : 'none';\n",
              "\n",
              "        async function convertToInteractive(key) {\n",
              "          const element = document.querySelector('#df-ce6da2dc-c70a-4833-9784-d9e506ff778d');\n",
              "          const dataTable =\n",
              "            await google.colab.kernel.invokeFunction('convertToInteractive',\n",
              "                                                     [key], {});\n",
              "          if (!dataTable) return;\n",
              "\n",
              "          const docLinkHtml = 'Like what you see? Visit the ' +\n",
              "            '<a target=\"_blank\" href=https://colab.research.google.com/notebooks/data_table.ipynb>data table notebook</a>'\n",
              "            + ' to learn more about interactive tables.';\n",
              "          element.innerHTML = '';\n",
              "          dataTable['output_type'] = 'display_data';\n",
              "          await google.colab.output.renderOutput(dataTable, element);\n",
              "          const docLink = document.createElement('div');\n",
              "          docLink.innerHTML = docLinkHtml;\n",
              "          element.appendChild(docLink);\n",
              "        }\n",
              "      </script>\n",
              "    </div>\n",
              "  </div>\n",
              "  "
            ]
          },
          "metadata": {},
          "execution_count": 21
        }
      ]
    },
    {
      "cell_type": "code",
      "source": [
        "data.iloc[:,:-1].corr()"
      ],
      "metadata": {
        "colab": {
          "base_uri": "https://localhost:8080/",
          "height": 363
        },
        "id": "DD9Y_HmMdkEv",
        "outputId": "b54f50da-93d6-4f24-af70-4019a08c4ffb"
      },
      "execution_count": null,
      "outputs": [
        {
          "output_type": "execute_result",
          "data": {
            "text/plain": [
              "               Dur     Proto   SrcAddr   DstAddr     State      sTos  \\\n",
              "Dur       1.000000  0.094738 -0.123640 -0.039711 -0.086461  0.014339   \n",
              "Proto     0.094738  1.000000 -0.035232  0.209984 -0.792962  0.009990   \n",
              "SrcAddr  -0.123640 -0.035232  1.000000 -0.072460  0.013958 -0.015768   \n",
              "DstAddr  -0.039711  0.209984 -0.072460  1.000000 -0.220912  0.005506   \n",
              "State    -0.086461 -0.792962  0.013958 -0.220912  1.000000 -0.007722   \n",
              "sTos      0.014339  0.009990 -0.015768  0.005506 -0.007722  1.000000   \n",
              "dTos      0.011964  0.003958  0.002698 -0.007000 -0.001248  0.047278   \n",
              "TotPkts   0.015580 -0.014652 -0.001007 -0.000790  0.012177 -0.000200   \n",
              "TotBytes  0.011829 -0.013660 -0.000016 -0.001121  0.011137 -0.000189   \n",
              "SrcBytes  0.006158 -0.004268 -0.000161 -0.002443  0.004583 -0.000094   \n",
              "\n",
              "              dTos   TotPkts  TotBytes  SrcBytes  \n",
              "Dur       0.011964  0.015580  0.011829  0.006158  \n",
              "Proto     0.003958 -0.014652 -0.013660 -0.004268  \n",
              "SrcAddr   0.002698 -0.001007 -0.000016 -0.000161  \n",
              "DstAddr  -0.007000 -0.000790 -0.001121 -0.002443  \n",
              "State    -0.001248  0.012177  0.011137  0.004583  \n",
              "sTos      0.047278 -0.000200 -0.000189 -0.000094  \n",
              "dTos      1.000000  0.000200  0.000219  0.001011  \n",
              "TotPkts   0.000200  1.000000  0.946802  0.315553  \n",
              "TotBytes  0.000219  0.946802  1.000000  0.393048  \n",
              "SrcBytes  0.001011  0.315553  0.393048  1.000000  "
            ],
            "text/html": [
              "\n",
              "  <div id=\"df-37551414-d38b-49a8-9544-b6dd5163bfdd\">\n",
              "    <div class=\"colab-df-container\">\n",
              "      <div>\n",
              "<style scoped>\n",
              "    .dataframe tbody tr th:only-of-type {\n",
              "        vertical-align: middle;\n",
              "    }\n",
              "\n",
              "    .dataframe tbody tr th {\n",
              "        vertical-align: top;\n",
              "    }\n",
              "\n",
              "    .dataframe thead th {\n",
              "        text-align: right;\n",
              "    }\n",
              "</style>\n",
              "<table border=\"1\" class=\"dataframe\">\n",
              "  <thead>\n",
              "    <tr style=\"text-align: right;\">\n",
              "      <th></th>\n",
              "      <th>Dur</th>\n",
              "      <th>Proto</th>\n",
              "      <th>SrcAddr</th>\n",
              "      <th>DstAddr</th>\n",
              "      <th>State</th>\n",
              "      <th>sTos</th>\n",
              "      <th>dTos</th>\n",
              "      <th>TotPkts</th>\n",
              "      <th>TotBytes</th>\n",
              "      <th>SrcBytes</th>\n",
              "    </tr>\n",
              "  </thead>\n",
              "  <tbody>\n",
              "    <tr>\n",
              "      <th>Dur</th>\n",
              "      <td>1.000000</td>\n",
              "      <td>0.094738</td>\n",
              "      <td>-0.123640</td>\n",
              "      <td>-0.039711</td>\n",
              "      <td>-0.086461</td>\n",
              "      <td>0.014339</td>\n",
              "      <td>0.011964</td>\n",
              "      <td>0.015580</td>\n",
              "      <td>0.011829</td>\n",
              "      <td>0.006158</td>\n",
              "    </tr>\n",
              "    <tr>\n",
              "      <th>Proto</th>\n",
              "      <td>0.094738</td>\n",
              "      <td>1.000000</td>\n",
              "      <td>-0.035232</td>\n",
              "      <td>0.209984</td>\n",
              "      <td>-0.792962</td>\n",
              "      <td>0.009990</td>\n",
              "      <td>0.003958</td>\n",
              "      <td>-0.014652</td>\n",
              "      <td>-0.013660</td>\n",
              "      <td>-0.004268</td>\n",
              "    </tr>\n",
              "    <tr>\n",
              "      <th>SrcAddr</th>\n",
              "      <td>-0.123640</td>\n",
              "      <td>-0.035232</td>\n",
              "      <td>1.000000</td>\n",
              "      <td>-0.072460</td>\n",
              "      <td>0.013958</td>\n",
              "      <td>-0.015768</td>\n",
              "      <td>0.002698</td>\n",
              "      <td>-0.001007</td>\n",
              "      <td>-0.000016</td>\n",
              "      <td>-0.000161</td>\n",
              "    </tr>\n",
              "    <tr>\n",
              "      <th>DstAddr</th>\n",
              "      <td>-0.039711</td>\n",
              "      <td>0.209984</td>\n",
              "      <td>-0.072460</td>\n",
              "      <td>1.000000</td>\n",
              "      <td>-0.220912</td>\n",
              "      <td>0.005506</td>\n",
              "      <td>-0.007000</td>\n",
              "      <td>-0.000790</td>\n",
              "      <td>-0.001121</td>\n",
              "      <td>-0.002443</td>\n",
              "    </tr>\n",
              "    <tr>\n",
              "      <th>State</th>\n",
              "      <td>-0.086461</td>\n",
              "      <td>-0.792962</td>\n",
              "      <td>0.013958</td>\n",
              "      <td>-0.220912</td>\n",
              "      <td>1.000000</td>\n",
              "      <td>-0.007722</td>\n",
              "      <td>-0.001248</td>\n",
              "      <td>0.012177</td>\n",
              "      <td>0.011137</td>\n",
              "      <td>0.004583</td>\n",
              "    </tr>\n",
              "    <tr>\n",
              "      <th>sTos</th>\n",
              "      <td>0.014339</td>\n",
              "      <td>0.009990</td>\n",
              "      <td>-0.015768</td>\n",
              "      <td>0.005506</td>\n",
              "      <td>-0.007722</td>\n",
              "      <td>1.000000</td>\n",
              "      <td>0.047278</td>\n",
              "      <td>-0.000200</td>\n",
              "      <td>-0.000189</td>\n",
              "      <td>-0.000094</td>\n",
              "    </tr>\n",
              "    <tr>\n",
              "      <th>dTos</th>\n",
              "      <td>0.011964</td>\n",
              "      <td>0.003958</td>\n",
              "      <td>0.002698</td>\n",
              "      <td>-0.007000</td>\n",
              "      <td>-0.001248</td>\n",
              "      <td>0.047278</td>\n",
              "      <td>1.000000</td>\n",
              "      <td>0.000200</td>\n",
              "      <td>0.000219</td>\n",
              "      <td>0.001011</td>\n",
              "    </tr>\n",
              "    <tr>\n",
              "      <th>TotPkts</th>\n",
              "      <td>0.015580</td>\n",
              "      <td>-0.014652</td>\n",
              "      <td>-0.001007</td>\n",
              "      <td>-0.000790</td>\n",
              "      <td>0.012177</td>\n",
              "      <td>-0.000200</td>\n",
              "      <td>0.000200</td>\n",
              "      <td>1.000000</td>\n",
              "      <td>0.946802</td>\n",
              "      <td>0.315553</td>\n",
              "    </tr>\n",
              "    <tr>\n",
              "      <th>TotBytes</th>\n",
              "      <td>0.011829</td>\n",
              "      <td>-0.013660</td>\n",
              "      <td>-0.000016</td>\n",
              "      <td>-0.001121</td>\n",
              "      <td>0.011137</td>\n",
              "      <td>-0.000189</td>\n",
              "      <td>0.000219</td>\n",
              "      <td>0.946802</td>\n",
              "      <td>1.000000</td>\n",
              "      <td>0.393048</td>\n",
              "    </tr>\n",
              "    <tr>\n",
              "      <th>SrcBytes</th>\n",
              "      <td>0.006158</td>\n",
              "      <td>-0.004268</td>\n",
              "      <td>-0.000161</td>\n",
              "      <td>-0.002443</td>\n",
              "      <td>0.004583</td>\n",
              "      <td>-0.000094</td>\n",
              "      <td>0.001011</td>\n",
              "      <td>0.315553</td>\n",
              "      <td>0.393048</td>\n",
              "      <td>1.000000</td>\n",
              "    </tr>\n",
              "  </tbody>\n",
              "</table>\n",
              "</div>\n",
              "      <button class=\"colab-df-convert\" onclick=\"convertToInteractive('df-37551414-d38b-49a8-9544-b6dd5163bfdd')\"\n",
              "              title=\"Convert this dataframe to an interactive table.\"\n",
              "              style=\"display:none;\">\n",
              "        \n",
              "  <svg xmlns=\"http://www.w3.org/2000/svg\" height=\"24px\"viewBox=\"0 0 24 24\"\n",
              "       width=\"24px\">\n",
              "    <path d=\"M0 0h24v24H0V0z\" fill=\"none\"/>\n",
              "    <path d=\"M18.56 5.44l.94 2.06.94-2.06 2.06-.94-2.06-.94-.94-2.06-.94 2.06-2.06.94zm-11 1L8.5 8.5l.94-2.06 2.06-.94-2.06-.94L8.5 2.5l-.94 2.06-2.06.94zm10 10l.94 2.06.94-2.06 2.06-.94-2.06-.94-.94-2.06-.94 2.06-2.06.94z\"/><path d=\"M17.41 7.96l-1.37-1.37c-.4-.4-.92-.59-1.43-.59-.52 0-1.04.2-1.43.59L10.3 9.45l-7.72 7.72c-.78.78-.78 2.05 0 2.83L4 21.41c.39.39.9.59 1.41.59.51 0 1.02-.2 1.41-.59l7.78-7.78 2.81-2.81c.8-.78.8-2.07 0-2.86zM5.41 20L4 18.59l7.72-7.72 1.47 1.35L5.41 20z\"/>\n",
              "  </svg>\n",
              "      </button>\n",
              "      \n",
              "  <style>\n",
              "    .colab-df-container {\n",
              "      display:flex;\n",
              "      flex-wrap:wrap;\n",
              "      gap: 12px;\n",
              "    }\n",
              "\n",
              "    .colab-df-convert {\n",
              "      background-color: #E8F0FE;\n",
              "      border: none;\n",
              "      border-radius: 50%;\n",
              "      cursor: pointer;\n",
              "      display: none;\n",
              "      fill: #1967D2;\n",
              "      height: 32px;\n",
              "      padding: 0 0 0 0;\n",
              "      width: 32px;\n",
              "    }\n",
              "\n",
              "    .colab-df-convert:hover {\n",
              "      background-color: #E2EBFA;\n",
              "      box-shadow: 0px 1px 2px rgba(60, 64, 67, 0.3), 0px 1px 3px 1px rgba(60, 64, 67, 0.15);\n",
              "      fill: #174EA6;\n",
              "    }\n",
              "\n",
              "    [theme=dark] .colab-df-convert {\n",
              "      background-color: #3B4455;\n",
              "      fill: #D2E3FC;\n",
              "    }\n",
              "\n",
              "    [theme=dark] .colab-df-convert:hover {\n",
              "      background-color: #434B5C;\n",
              "      box-shadow: 0px 1px 3px 1px rgba(0, 0, 0, 0.15);\n",
              "      filter: drop-shadow(0px 1px 2px rgba(0, 0, 0, 0.3));\n",
              "      fill: #FFFFFF;\n",
              "    }\n",
              "  </style>\n",
              "\n",
              "      <script>\n",
              "        const buttonEl =\n",
              "          document.querySelector('#df-37551414-d38b-49a8-9544-b6dd5163bfdd button.colab-df-convert');\n",
              "        buttonEl.style.display =\n",
              "          google.colab.kernel.accessAllowed ? 'block' : 'none';\n",
              "\n",
              "        async function convertToInteractive(key) {\n",
              "          const element = document.querySelector('#df-37551414-d38b-49a8-9544-b6dd5163bfdd');\n",
              "          const dataTable =\n",
              "            await google.colab.kernel.invokeFunction('convertToInteractive',\n",
              "                                                     [key], {});\n",
              "          if (!dataTable) return;\n",
              "\n",
              "          const docLinkHtml = 'Like what you see? Visit the ' +\n",
              "            '<a target=\"_blank\" href=https://colab.research.google.com/notebooks/data_table.ipynb>data table notebook</a>'\n",
              "            + ' to learn more about interactive tables.';\n",
              "          element.innerHTML = '';\n",
              "          dataTable['output_type'] = 'display_data';\n",
              "          await google.colab.output.renderOutput(dataTable, element);\n",
              "          const docLink = document.createElement('div');\n",
              "          docLink.innerHTML = docLinkHtml;\n",
              "          element.appendChild(docLink);\n",
              "        }\n",
              "      </script>\n",
              "    </div>\n",
              "  </div>\n",
              "  "
            ]
          },
          "metadata": {},
          "execution_count": 22
        }
      ]
    },
    {
      "cell_type": "code",
      "source": [
        "plt.figure(figsize=(12,10))\n",
        "sns.heatmap(data.iloc[:,:-1].corr(),annot=True,cmap='Blues')"
      ],
      "metadata": {
        "colab": {
          "base_uri": "https://localhost:8080/",
          "height": 614
        },
        "id": "cfIRFJw0eeqm",
        "outputId": "f901b9ef-cb1d-4b23-fd1a-b3fad57075c8"
      },
      "execution_count": null,
      "outputs": [
        {
          "output_type": "execute_result",
          "data": {
            "text/plain": [
              "<matplotlib.axes._subplots.AxesSubplot at 0x7fd675403590>"
            ]
          },
          "metadata": {},
          "execution_count": 23
        },
        {
          "output_type": "display_data",
          "data": {
            "text/plain": [
              "<Figure size 864x720 with 2 Axes>"
            ],
            "image/png": "[encoded data removed]"
          },
          "metadata": {
            "needs_background": "light"
          }
        }
      ]
    },
    {
      "cell_type": "code",
      "source": [
        "data.drop(['StartTime','TotPkts','Dir'],axis=1,inplace=True)"
      ],
      "metadata": {
        "colab": {
          "base_uri": "https://localhost:8080/"
        },
        "id": "dHmCqnSdeh0E",
        "outputId": "80970cfe-7d7f-4db8-93ac-a86009873525"
      },
      "execution_count": null,
      "outputs": [
        {
          "output_type": "stream",
          "name": "stderr",
          "text": [
            "/usr/local/lib/python3.7/dist-packages/pandas/core/frame.py:4913: SettingWithCopyWarning: \n",
            "A value is trying to be set on a copy of a slice from a DataFrame\n",
            "\n",
            "See the caveats in the documentation: https://pandas.pydata.org/pandas-docs/stable/user_guide/indexing.html#returning-a-view-versus-a-copy\n",
            "  errors=errors,\n"
          ]
        }
      ]
    },
    {
      "cell_type": "code",
      "source": [
        "X=data.iloc[:,:-1]\n",
        "Y=data.iloc[:,-1]"
      ],
      "metadata": {
        "id": "pjOUwEFvgXwU"
      },
      "execution_count": null,
      "outputs": []
    },
    {
      "cell_type": "code",
      "source": [
        "X['Dur']=X['Dur'].astype('int')"
      ],
      "metadata": {
        "id": "PcvnZmajgg8b"
      },
      "execution_count": null,
      "outputs": []
    },
    {
      "cell_type": "code",
      "source": [
        "X.info()"
      ],
      "metadata": {
        "colab": {
          "base_uri": "https://localhost:8080/"
        },
        "id": "ew_jv86Xiae1",
        "outputId": "cf42f171-100c-4c7c-e224-fbe5b7f94230"
      },
      "execution_count": null,
      "outputs": [
        {
          "output_type": "stream",
          "name": "stdout",
          "text": [
            "<class 'pandas.core.frame.DataFrame'>\n",
            "Int64Index: 1110530 entries, 0 to 1309764\n",
            "Data columns (total 11 columns):\n",
            " #   Column    Non-Null Count    Dtype  \n",
            "---  ------    --------------    -----  \n",
            " 0   Dur       1110530 non-null  int64  \n",
            " 1   Proto     1110530 non-null  int64  \n",
            " 2   SrcAddr   1110530 non-null  int64  \n",
            " 3   Sport     1110530 non-null  object \n",
            " 4   DstAddr   1110530 non-null  int64  \n",
            " 5   Dport     1110530 non-null  object \n",
            " 6   State     1110530 non-null  int64  \n",
            " 7   sTos      1110530 non-null  float64\n",
            " 8   dTos      1110530 non-null  float64\n",
            " 9   TotBytes  1110530 non-null  int64  \n",
            " 10  SrcBytes  1110530 non-null  int64  \n",
            "dtypes: float64(2), int64(7), object(2)\n",
            "memory usage: 101.7+ MB\n"
          ]
        }
      ]
    },
    {
      "cell_type": "code",
      "source": [
        "def Hex_to_int(i):\n",
        "  return int(i,base=16)"
      ],
      "metadata": {
        "id": "PKz0-Xe8mic9"
      },
      "execution_count": null,
      "outputs": []
    },
    {
      "cell_type": "code",
      "source": [
        "X['Sport']=X['Sport'].apply(Hex_to_int)\n",
        "X['Dport']=X['Dport'].apply(Hex_to_int)"
      ],
      "metadata": {
        "id": "EXdpFDXwi9wO"
      },
      "execution_count": null,
      "outputs": []
    },
    {
      "cell_type": "code",
      "source": [
        "cols=X.columns"
      ],
      "metadata": {
        "id": "GRMFp8ozs-Vg"
      },
      "execution_count": null,
      "outputs": []
    },
    {
      "cell_type": "code",
      "source": [],
      "metadata": {
        "id": "vPcbz2oztGCQ"
      },
      "execution_count": null,
      "outputs": []
    },
    {
      "cell_type": "code",
      "source": [
        "X=normalize(X,norm=\"l2\")"
      ],
      "metadata": {
        "id": "Tcw6Q0aYmOai"
      },
      "execution_count": null,
      "outputs": []
    },
    {
      "cell_type": "code",
      "source": [
        "X"
      ],
      "metadata": {
        "colab": {
          "base_uri": "https://localhost:8080/"
        },
        "id": "mCLlZk1HtLNZ",
        "outputId": "d5ce3af0-07f1-45ee-c375-5644aec17fad"
      },
      "execution_count": null,
      "outputs": [
        {
          "output_type": "execute_result",
          "data": {
            "text/plain": [
              "array([[1.00177345e-06, 1.45606605e-09, 4.38917695e-01, ...,\n",
              "        0.00000000e+00, 1.58347183e-07, 1.05564789e-07],\n",
              "       [6.60115081e-07, 1.42804777e-09, 4.72673937e-01, ...,\n",
              "        0.00000000e+00, 1.48873980e-07, 9.71072482e-08],\n",
              "       [8.28257368e-07, 1.58442347e-09, 2.09840389e-01, ...,\n",
              "        0.00000000e+00, 1.14870702e-07, 5.74353508e-08],\n",
              "       ...,\n",
              "       [0.00000000e+00, 9.18472193e-10, 8.23867652e-01, ...,\n",
              "        0.00000000e+00, 7.02631227e-08, 5.60268038e-08],\n",
              "       [0.00000000e+00, 1.50376730e-09, 3.72671357e-01, ...,\n",
              "        0.00000000e+00, 5.41356229e-08, 3.12031715e-08],\n",
              "       [0.00000000e+00, 1.03719680e-09, 8.53395209e-01, ...,\n",
              "        0.00000000e+00, 6.63805955e-08, 4.35622658e-08]])"
            ]
          },
          "metadata": {},
          "execution_count": 32
        }
      ]
    },
    {
      "cell_type": "code",
      "source": [
        "Y=np.array(Y)\n",
        "Y"
      ],
      "metadata": {
        "id": "BFCRZ8gQxdXX",
        "colab": {
          "base_uri": "https://localhost:8080/"
        },
        "outputId": "78cff57e-c155-4d70-c6e1-9b2991242ad0"
      },
      "execution_count": null,
      "outputs": [
        {
          "output_type": "execute_result",
          "data": {
            "text/plain": [
              "array([2, 2, 2, ..., 2, 2, 2])"
            ]
          },
          "metadata": {},
          "execution_count": 33
        }
      ]
    },
    {
      "cell_type": "code",
      "source": [
        "from numpy import array\n",
        "from numpy import argmax\n",
        "from tensorflow.keras.utils import to_categorical\n",
        "# define example\n",
        "\n",
        "\n",
        "\n",
        "# one hot encode\n",
        "encoded = to_categorical(Y)\n",
        "print(encoded)\n",
        "# invert encoding\n",
        "inverted = argmax(encoded[0])\n",
        "print(inverted)\n",
        "len(encoded)"
      ],
      "metadata": {
        "colab": {
          "base_uri": "https://localhost:8080/"
        },
        "id": "JZ-cPxiAhaGH",
        "outputId": "61b75cc5-e1d9-4291-96ea-99e2ffa07870"
      },
      "execution_count": null,
      "outputs": [
        {
          "output_type": "stream",
          "name": "stdout",
          "text": [
            "[[0. 0. 1.]\n",
            " [0. 0. 1.]\n",
            " [0. 0. 1.]\n",
            " ...\n",
            " [0. 0. 1.]\n",
            " [0. 0. 1.]\n",
            " [0. 0. 1.]]\n",
            "2\n"
          ]
        },
        {
          "output_type": "execute_result",
          "data": {
            "text/plain": [
              "1110530"
            ]
          },
          "metadata": {},
          "execution_count": 34
        }
      ]
    },
    {
      "cell_type": "code",
      "source": [
        "X_train,X_test,Y_train,Y_test=train_test_split(X,encoded,test_size=0.3,random_state=1)"
      ],
      "metadata": {
        "id": "mIAYRm0KxnOi"
      },
      "execution_count": null,
      "outputs": []
    },
    {
      "cell_type": "code",
      "source": [
        "X_train.shape,Y_train.shape,X_test.shape,Y_test.shape"
      ],
      "metadata": {
        "colab": {
          "base_uri": "https://localhost:8080/"
        },
        "id": "5P-Te7SQkHqZ",
        "outputId": "96b13bf0-53c6-4787-ac07-d122aee60fd3"
      },
      "execution_count": null,
      "outputs": [
        {
          "output_type": "execute_result",
          "data": {
            "text/plain": [
              "((777371, 11), (777371, 3), (333159, 11), (333159, 3))"
            ]
          },
          "metadata": {},
          "execution_count": 36
        }
      ]
    },
    {
      "cell_type": "code",
      "source": [
        "from sklearn.metrics import mean_absolute_error\n",
        "from keras.models import Sequential\n",
        "from keras.layers import Dense, LSTM, Dropout\n",
        "\n",
        "\n",
        "\n"
      ],
      "metadata": {
        "id": "NElu0CLhvS9J"
      },
      "execution_count": null,
      "outputs": []
    },
    {
      "cell_type": "code",
      "source": [
        "modell = Sequential()\n",
        "modell.add(LSTM(50, return_sequences=True, input_shape=(X_train.shape[1],1)))\n",
        "modell.add(Dropout(0.2))\n",
        "modell.add(LSTM(100, return_sequences=False))\n",
        "modell.add(Dropout(0.2))\n",
        "modell.add(Dense(3,activation='softmax'))"
      ],
      "metadata": {
        "id": "_S6DA5afm1sI"
      },
      "execution_count": null,
      "outputs": []
    },
    {
      "cell_type": "code",
      "source": [
        "modell.compile(loss=\"categorical_crossentropy\",optimizer=\"rmsprop\",metrics=['accuracy','MeanSquaredError','AUC'])\n",
        "\n",
        "history=modell.fit(X_train,Y_train,epochs= 15,batch_size=64)"
      ],
      "metadata": {
        "colab": {
          "base_uri": "https://localhost:8080/"
        },
        "id": "j41kEjcjnsP_",
        "outputId": "f428fc7b-5dbf-464f-9eba-4df3e0024835"
      },
      "execution_count": null,
      "outputs": [
        {
          "output_type": "stream",
          "name": "stdout",
          "text": [
            "Epoch 1/15\n",
            "12147/12147 [==============================] - 298s 24ms/step - loss: 0.0723 - accuracy: 0.9864 - mean_squared_error: 0.0089 - auc: 0.9951\n",
            "Epoch 2/15\n",
            "12147/12147 [==============================] - 299s 25ms/step - loss: 0.0726 - accuracy: 0.9864 - mean_squared_error: 0.0089 - auc: 0.9950\n",
            "Epoch 3/15\n",
            "12147/12147 [==============================] - 290s 24ms/step - loss: 0.0731 - accuracy: 0.9864 - mean_squared_error: 0.0089 - auc: 0.9949\n",
            "Epoch 4/15\n",
            "12147/12147 [==============================] - 290s 24ms/step - loss: 0.0727 - accuracy: 0.9864 - mean_squared_error: 0.0089 - auc: 0.9950\n",
            "Epoch 5/15\n",
            "12147/12147 [==============================] - 287s 24ms/step - loss: 0.0728 - accuracy: 0.9864 - mean_squared_error: 0.0089 - auc: 0.9950\n",
            "Epoch 6/15\n",
            "12147/12147 [==============================] - 288s 24ms/step - loss: 0.0723 - accuracy: 0.9864 - mean_squared_error: 0.0089 - auc: 0.9952\n",
            "Epoch 7/15\n",
            "12147/12147 [==============================] - 287s 24ms/step - loss: 0.0729 - accuracy: 0.9864 - mean_squared_error: 0.0089 - auc: 0.9951\n",
            "Epoch 8/15\n",
            "12147/12147 [==============================] - 288s 24ms/step - loss: 0.0726 - accuracy: 0.9864 - mean_squared_error: 0.0089 - auc: 0.9951\n",
            "Epoch 9/15\n",
            "12147/12147 [==============================] - 287s 24ms/step - loss: 0.0728 - accuracy: 0.9864 - mean_squared_error: 0.0089 - auc: 0.9951\n",
            "Epoch 10/15\n",
            "12147/12147 [==============================] - 285s 23ms/step - loss: 0.0731 - accuracy: 0.9864 - mean_squared_error: 0.0089 - auc: 0.9950\n",
            "Epoch 11/15\n",
            "12147/12147 [==============================] - 286s 24ms/step - loss: 0.0735 - accuracy: 0.9864 - mean_squared_error: 0.0089 - auc: 0.9951\n",
            "Epoch 12/15\n",
            "12147/12147 [==============================] - 287s 24ms/step - loss: 0.0731 - accuracy: 0.9864 - mean_squared_error: 0.0089 - auc: 0.9951\n",
            "Epoch 13/15\n",
            "12147/12147 [==============================] - 286s 24ms/step - loss: 0.0732 - accuracy: 0.9864 - mean_squared_error: 0.0089 - auc: 0.9951\n",
            "Epoch 14/15\n",
            "12147/12147 [==============================] - 288s 24ms/step - loss: 0.0735 - accuracy: 0.9864 - mean_squared_error: 0.0089 - auc: 0.9950\n",
            "Epoch 15/15\n",
            "12147/12147 [==============================] - 289s 24ms/step - loss: 0.0734 - accuracy: 0.9864 - mean_squared_error: 0.0089 - auc: 0.9951\n"
          ]
        }
      ]
    },
    {
      "cell_type": "code",
      "source": [
        "modell.save(\"./model.h5\")"
      ],
      "metadata": {
        "id": "pXdR9bfAdoIW"
      },
      "execution_count": null,
      "outputs": []
    },
    {
      "cell_type": "code",
      "source": [
        "modell.summary()"
      ],
      "metadata": {
        "id": "DmBzZ5q1BV-n",
        "outputId": "d9f2f8d5-b185-432c-91a5-7e2a3c71e2cd",
        "colab": {
          "base_uri": "https://localhost:8080/"
        }
      },
      "execution_count": null,
      "outputs": [
        {
          "output_type": "stream",
          "name": "stdout",
          "text": [
            "Model: \"sequential\"\n",
            "_________________________________________________________________\n",
            " Layer (type)                Output Shape              Param #   \n",
            "=================================================================\n",
            " lstm (LSTM)                 (None, 11, 50)            10400     \n",
            "                                                                 \n",
            " dropout (Dropout)           (None, 11, 50)            0         \n",
            "                                                                 \n",
            " lstm_1 (LSTM)               (None, 100)               60400     \n",
            "                                                                 \n",
            " dropout_1 (Dropout)         (None, 100)               0         \n",
            "                                                                 \n",
            " dense (Dense)               (None, 3)                 303       \n",
            "                                                                 \n",
            "=================================================================\n",
            "Total params: 71,103\n",
            "Trainable params: 71,103\n",
            "Non-trainable params: 0\n",
            "_________________________________________________________________\n"
          ]
        }
      ]
    },
    {
      "cell_type": "code",
      "source": [
        "clf=tf.keras.models.load_model('./model.h5')"
      ],
      "metadata": {
        "id": "xBcL18ZY5Qj0"
      },
      "execution_count": null,
      "outputs": []
    },
    {
      "cell_type": "code",
      "source": [
        "predicted_data=clf.predict(X_test)\n",
        "predicted_data"
      ],
      "metadata": {
        "colab": {
          "base_uri": "https://localhost:8080/"
        },
        "id": "8N0c5WJKrP06",
        "outputId": "dd34a008-52f4-4b53-d244-569374f5f9dd"
      },
      "execution_count": null,
      "outputs": [
        {
          "output_type": "execute_result",
          "data": {
            "text/plain": [
              "array([[2.4847055e-03, 2.6725823e-11, 9.9751532e-01],\n",
              "       [1.7100854e-02, 1.0798493e-08, 9.8289919e-01],\n",
              "       [2.3361002e-03, 1.6718947e-11, 9.9766386e-01],\n",
              "       ...,\n",
              "       [2.9379141e-03, 4.9944207e-14, 9.9706203e-01],\n",
              "       [2.5316845e-03, 1.9785298e-11, 9.9746835e-01],\n",
              "       [1.7101003e-02, 1.0797728e-08, 9.8289895e-01]], dtype=float32)"
            ]
          },
          "metadata": {},
          "execution_count": 226
        }
      ]
    },
    {
      "cell_type": "code",
      "source": [
        "ans=[]\n",
        "Y=[]\n",
        "for i in range(len(predicted_data)):\n",
        "  ans.append(np.argmax(predicted_data[i]))\n",
        "  Y.append(np.argmax(Y_test[i]))"
      ],
      "metadata": {
        "id": "_1_kapFDp-hh"
      },
      "execution_count": null,
      "outputs": []
    },
    {
      "cell_type": "code",
      "source": [
        "from sklearn.metrics import classification_report,confusion_matrix,accuracy_score\n",
        "print(classification_report(ans,Y))"
      ],
      "metadata": {
        "colab": {
          "base_uri": "https://localhost:8080/"
        },
        "id": "OkUUCrGt91vs",
        "outputId": "2ced6453-dcce-4782-f3af-a03163b672fa"
      },
      "execution_count": null,
      "outputs": [
        {
          "output_type": "stream",
          "name": "stderr",
          "text": [
            "/usr/local/lib/python3.7/dist-packages/sklearn/metrics/_classification.py:1318: UndefinedMetricWarning: Recall and F-score are ill-defined and being set to 0.0 in labels with no true samples. Use `zero_division` parameter to control this behavior.\n",
            "  _warn_prf(average, modifier, msg_start, len(result))\n"
          ]
        },
        {
          "output_type": "stream",
          "name": "stdout",
          "text": [
            "              precision    recall  f1-score   support\n",
            "\n",
            "           0       0.00      0.00      0.00         0\n",
            "           1       0.00      0.00      0.00         0\n",
            "           2       1.00      0.99      0.99    333159\n",
            "\n",
            "    accuracy                           0.99    333159\n",
            "   macro avg       0.33      0.33      0.33    333159\n",
            "weighted avg       1.00      0.99      0.99    333159\n",
            "\n"
          ]
        },
        {
          "output_type": "stream",
          "name": "stderr",
          "text": [
            "/usr/local/lib/python3.7/dist-packages/sklearn/metrics/_classification.py:1318: UndefinedMetricWarning: Recall and F-score are ill-defined and being set to 0.0 in labels with no true samples. Use `zero_division` parameter to control this behavior.\n",
            "  _warn_prf(average, modifier, msg_start, len(result))\n",
            "/usr/local/lib/python3.7/dist-packages/sklearn/metrics/_classification.py:1318: UndefinedMetricWarning: Recall and F-score are ill-defined and being set to 0.0 in labels with no true samples. Use `zero_division` parameter to control this behavior.\n",
            "  _warn_prf(average, modifier, msg_start, len(result))\n"
          ]
        }
      ]
    },
    {
      "cell_type": "code",
      "source": [
        "confusion_matrix(ans,Y)"
      ],
      "metadata": {
        "colab": {
          "base_uri": "https://localhost:8080/"
        },
        "id": "EDWLoT5-7xnh",
        "outputId": "22ad7844-4ecc-43b2-ef77-42ecf7033a8e"
      },
      "execution_count": null,
      "outputs": [
        {
          "output_type": "execute_result",
          "data": {
            "text/plain": [
              "array([[     0,      0,      0],\n",
              "       [     0,      0,      0],\n",
              "       [  4476,     67, 328616]])"
            ]
          },
          "metadata": {},
          "execution_count": 252
        }
      ]
    },
    {
      "cell_type": "code",
      "source": [
        "accuracy_score(ans,Y)"
      ],
      "metadata": {
        "id": "6MBtoZwgzvku",
        "colab": {
          "base_uri": "https://localhost:8080/"
        },
        "outputId": "dc5e836d-3410-48e8-f571-f1b1c94cfcaf"
      },
      "execution_count": null,
      "outputs": [
        {
          "output_type": "execute_result",
          "data": {
            "text/plain": [
              "0.9863638683031225"
            ]
          },
          "metadata": {},
          "execution_count": 254
        }
      ]
    },
    {
      "cell_type": "code",
      "source": [
        "history.history"
      ],
      "metadata": {
        "colab": {
          "base_uri": "https://localhost:8080/"
        },
        "id": "HNgELjyPD8_S",
        "outputId": "6e327a3a-4216-40d3-ac2a-529d91b16ea3"
      },
      "execution_count": null,
      "outputs": [
        {
          "output_type": "execute_result",
          "data": {
            "text/plain": [
              "{'accuracy': [0.9864466190338135,\n",
              "  0.9864453673362732,\n",
              "  0.9864491820335388,\n",
              "  0.9864479303359985,\n",
              "  0.9864491820335388,\n",
              "  0.9864491820335388,\n",
              "  0.9864491820335388,\n",
              "  0.9864479303359985,\n",
              "  0.9864491820335388,\n",
              "  0.9864286184310913,\n",
              "  0.9864453673362732,\n",
              "  0.9864453673362732,\n",
              "  0.9864427447319031,\n",
              "  0.9864414930343628,\n",
              "  0.9864453673362732],\n",
              " 'auc': [0.9950833320617676,\n",
              "  0.9949905872344971,\n",
              "  0.9948702454566956,\n",
              "  0.9949565529823303,\n",
              "  0.994960367679596,\n",
              "  0.9951690435409546,\n",
              "  0.9950666427612305,\n",
              "  0.9950979351997375,\n",
              "  0.9950776696205139,\n",
              "  0.9950410723686218,\n",
              "  0.9950865507125854,\n",
              "  0.9951230883598328,\n",
              "  0.9950880408287048,\n",
              "  0.995032548904419,\n",
              "  0.9951018691062927],\n",
              " 'loss': [0.07226892560720444,\n",
              "  0.07260044664144516,\n",
              "  0.0730941966176033,\n",
              "  0.07267216593027115,\n",
              "  0.07283370941877365,\n",
              "  0.07225346565246582,\n",
              "  0.07285986840724945,\n",
              "  0.07257630676031113,\n",
              "  0.07283732295036316,\n",
              "  0.07313979417085648,\n",
              "  0.07351240515708923,\n",
              "  0.07313764840364456,\n",
              "  0.07323700934648514,\n",
              "  0.07354727387428284,\n",
              "  0.07340173423290253],\n",
              " 'mean_squared_error': [0.008857117034494877,\n",
              "  0.008866466581821442,\n",
              "  0.008876536041498184,\n",
              "  0.00887813325971365,\n",
              "  0.008869866840541363,\n",
              "  0.008856374770402908,\n",
              "  0.008857897482812405,\n",
              "  0.008856715634465218,\n",
              "  0.00886981189250946,\n",
              "  0.008883425034582615,\n",
              "  0.008876443840563297,\n",
              "  0.00886851828545332,\n",
              "  0.00887520145624876,\n",
              "  0.008878333494067192,\n",
              "  0.008866693824529648]}"
            ]
          },
          "metadata": {},
          "execution_count": 51
        }
      ]
    },
    {
      "cell_type": "code",
      "source": [
        "import matplotlib.pyplot as plt\n",
        "plt.figure(figsize=(10,8))\n",
        "plt.plot(history.history['accuracy'])\n",
        "plt.plot(history.history['auc'])\n",
        "plt.title('model accuracy')\n",
        "plt.ylabel('accuracy')\n",
        "plt.xlabel('epoch')\n",
        "plt.legend(['Train', 'Test'], loc='upper left')\n",
        "plt.show()\n"
      ],
      "metadata": {
        "id": "lYYWi6T_0jQw",
        "colab": {
          "base_uri": "https://localhost:8080/",
          "height": 513
        },
        "outputId": "54073e58-8117-463e-88a8-99172cb58956"
      },
      "execution_count": null,
      "outputs": [
        {
          "output_type": "display_data",
          "data": {
            "text/plain": [
              "<Figure size 720x576 with 1 Axes>"
            ],
            "image/png": "[encoded data removed]"
          },
          "metadata": {
            "needs_background": "light"
          }
        }
      ]
    },
    {
      "cell_type": "code",
      "source": [
        "from sklearn.metrics import roc_curve\n",
        "y_pred_keras = modell.predict(X_test)\n"
      ],
      "metadata": {
        "id": "oGVw2p_dGrCL"
      },
      "execution_count": null,
      "outputs": []
    },
    {
      "cell_type": "code",
      "source": [
        "y_pred_keras"
      ],
      "metadata": {
        "colab": {
          "base_uri": "https://localhost:8080/"
        },
        "id": "KxWRk2h-Z8TM",
        "outputId": "e6e85b39-5319-452e-f102-141de446e5a7"
      },
      "execution_count": null,
      "outputs": [
        {
          "output_type": "execute_result",
          "data": {
            "text/plain": [
              "array([[3.0854568e-04, 7.7382940e-11, 9.9969149e-01],\n",
              "       [1.4354512e-02, 8.1057202e-08, 9.8564535e-01],\n",
              "       [5.9967447e-04, 2.6220104e-10, 9.9940038e-01],\n",
              "       ...,\n",
              "       [7.9020706e-04, 1.1732104e-10, 9.9920976e-01],\n",
              "       [8.0553157e-04, 4.5849932e-10, 9.9919444e-01],\n",
              "       [1.4353487e-02, 8.1050800e-08, 9.8564643e-01]], dtype=float32)"
            ]
          },
          "metadata": {},
          "execution_count": 60
        }
      ]
    },
    {
      "cell_type": "code",
      "source": [
        "from sklearn.metrics import roc_curve, auc"
      ],
      "metadata": {
        "id": "CWtllTv8YRby"
      },
      "execution_count": null,
      "outputs": []
    },
    {
      "cell_type": "code",
      "source": [
        "\n",
        "fpr = dict()\n",
        "tpr = dict()\n",
        "roc_auc = dict()\n",
        "for i in range(3):\n",
        "    fpr[i], tpr[i], _ = roc_curve(Y_test[:, i], y_pred_keras[:, i])\n",
        "    roc_auc[i] = auc(fpr[i], tpr[i])\n",
        "\n",
        "# Compute micro-average ROC curve and ROC area\n",
        "fpr[\"micro\"], tpr[\"micro\"], _ = roc_curve(Y_test.ravel(), y_pred_keras.ravel())\n",
        "roc_auc[\"micro\"] = auc(fpr[\"micro\"], tpr[\"micro\"])"
      ],
      "metadata": {
        "id": "cx5a-PypGr1L"
      },
      "execution_count": null,
      "outputs": []
    },
    {
      "cell_type": "code",
      "source": [
        "for i in range(3):\n",
        "    plt.figure()\n",
        "    plt.plot(fpr[i], tpr[i], label='ROC curve (area = %0.2f)' % roc_auc[i])\n",
        "    plt.plot([0, 1], [0, 1], 'k--')\n",
        "    plt.xlim([0.0, 1.0])\n",
        "    plt.ylim([0.0, 1.05])\n",
        "    plt.xlabel('False Positive Rate')\n",
        "    plt.ylabel('True Positive Rate')\n",
        "    plt.title('Receiver operating characteristic example')\n",
        "    plt.legend(loc=\"lower right\")\n",
        "    plt.show()"
      ],
      "metadata": {
        "id": "rmaMuM2d0n_0",
        "colab": {
          "base_uri": "https://localhost:8080/",
          "height": 851
        },
        "outputId": "6b81f689-2c59-46c8-9c72-01f37a24c4fc"
      },
      "execution_count": null,
      "outputs": [
        {
          "output_type": "display_data",
          "data": {
            "text/plain": [
              "<Figure size 432x288 with 1 Axes>"
            ],
            "image/png": "[encoded data removed]"
          },
          "metadata": {
            "needs_background": "light"
          }
        },
        {
          "output_type": "display_data",
          "data": {
            "text/plain": [
              "<Figure size 432x288 with 1 Axes>"
            ],
            "image/png": "[encoded data removed]"
          },
          "metadata": {
            "needs_background": "light"
          }
        },
        {
          "output_type": "display_data",
          "data": {
            "text/plain": [
              "<Figure size 432x288 with 1 Axes>"
            ],
            "image/png": "[encoded data removed]"
          },
          "metadata": {
            "needs_background": "light"
          }
        }
      ]
    },
    {
      "cell_type": "code",
      "source": [],
      "metadata": {
        "id": "D8XaGLhaaa6c"
      },
      "execution_count": null,
      "outputs": []
    }
  ]
}